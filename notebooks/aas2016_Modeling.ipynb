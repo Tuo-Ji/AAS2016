{
 "cells": [
  {
   "cell_type": "markdown",
   "metadata": {},
   "source": [
    "## Overview of core astropy.modeling features\n",
    "\n",
    "- simple models\n",
    "- fitters\n",
    "- combined models\n",
    "- creating new models\n"
   ]
  },
  {
   "cell_type": "code",
   "execution_count": 41,
   "metadata": {
    "collapsed": true
   },
   "outputs": [],
   "source": [
    "import numpy as np\n",
    "%matplotlib inline\n",
    "from matplotlib import pyplot as plt"
   ]
  },
  {
   "cell_type": "markdown",
   "metadata": {},
   "source": [
    "### Simple models"
   ]
  },
  {
   "cell_type": "code",
   "execution_count": 42,
   "metadata": {
    "collapsed": false
   },
   "outputs": [],
   "source": [
    "from astropy.modeling import models, fitting\n"
   ]
  },
  {
   "cell_type": "markdown",
   "metadata": {},
   "source": [
    "Models are defined with their parameters."
   ]
  },
  {
   "cell_type": "code",
   "execution_count": 44,
   "metadata": {
    "collapsed": false
   },
   "outputs": [
    {
     "data": {
      "text/plain": [
       "('amplitude', 'mean', 'stddev')"
      ]
     },
     "execution_count": 44,
     "metadata": {},
     "output_type": "execute_result"
    }
   ],
   "source": [
    "models.Gaussian1D.param_names"
   ]
  },
  {
   "cell_type": "code",
   "execution_count": 45,
   "metadata": {
    "collapsed": false
   },
   "outputs": [],
   "source": [
    "gauss = models.Gaussian1D(amplitude=5.3, mean=3.1, stddev=1.1)"
   ]
  },
  {
   "cell_type": "markdown",
   "metadata": {},
   "source": [
    "Parameters are objects with attributes:"
   ]
  },
  {
   "cell_type": "code",
   "execution_count": 46,
   "metadata": {
    "collapsed": false
   },
   "outputs": [
    {
     "data": {
      "text/plain": [
       "Parameter('mean', value=3.1)"
      ]
     },
     "execution_count": 46,
     "metadata": {},
     "output_type": "execute_result"
    }
   ],
   "source": [
    "gauss.mean"
   ]
  },
  {
   "cell_type": "code",
   "execution_count": 47,
   "metadata": {
    "collapsed": false
   },
   "outputs": [
    {
     "name": "stdout",
     "output_type": "stream",
     "text": [
      "mean\n"
     ]
    }
   ],
   "source": [
    "print(gauss.mean.name)"
   ]
  },
  {
   "cell_type": "code",
   "execution_count": 48,
   "metadata": {
    "collapsed": false
   },
   "outputs": [
    {
     "name": "stdout",
     "output_type": "stream",
     "text": [
      "3.1\n"
     ]
    }
   ],
   "source": [
    "print(gauss.mean.value)\n"
   ]
  },
  {
   "cell_type": "code",
   "execution_count": 49,
   "metadata": {
    "collapsed": false
   },
   "outputs": [
    {
     "name": "stdout",
     "output_type": "stream",
     "text": [
      "0\n"
     ]
    }
   ],
   "source": [
    "print(gauss.mean.default)"
   ]
  },
  {
   "cell_type": "code",
   "execution_count": 50,
   "metadata": {
    "collapsed": false
   },
   "outputs": [
    {
     "data": {
      "text/plain": [
       "<Gaussian1D(amplitude=1.0, mean=0.0, stddev=1.0)>"
      ]
     },
     "execution_count": 50,
     "metadata": {},
     "output_type": "execute_result"
    }
   ],
   "source": [
    "models.Gaussian1D(amplitude=1, stddev=1)"
   ]
  },
  {
   "cell_type": "markdown",
   "metadata": {},
   "source": [
    "Modeling supports parameter constraints:"
   ]
  },
  {
   "cell_type": "code",
   "execution_count": 51,
   "metadata": {
    "collapsed": false
   },
   "outputs": [
    {
     "name": "stdout",
     "output_type": "stream",
     "text": [
      "(u'fixed', u'tied', u'bounds')\n"
     ]
    }
   ],
   "source": [
    "print(gauss.mean.constraints) # more on this later"
   ]
  },
  {
   "cell_type": "code",
   "execution_count": 52,
   "metadata": {
    "collapsed": false
   },
   "outputs": [
    {
     "name": "stdout",
     "output_type": "stream",
     "text": [
      "[ 5.3  3.1  1.1]\n"
     ]
    }
   ],
   "source": [
    "print(gauss.parameters)"
   ]
  },
  {
   "cell_type": "markdown",
   "metadata": {},
   "source": [
    "Parameter values can be changed by simple assignment:"
   ]
  },
  {
   "cell_type": "code",
   "execution_count": 53,
   "metadata": {
    "collapsed": false
   },
   "outputs": [
    {
     "name": "stdout",
     "output_type": "stream",
     "text": [
      "Parameter('mean', value=1.4)\n"
     ]
    }
   ],
   "source": [
    "gauss.mean = 1.4\n",
    "print(gauss.mean)"
   ]
  },
  {
   "cell_type": "code",
   "execution_count": 54,
   "metadata": {
    "collapsed": false
   },
   "outputs": [
    {
     "name": "stdout",
     "output_type": "stream",
     "text": [
      "[ 5.3  1.4  1.1]\n"
     ]
    }
   ],
   "source": [
    "print(gauss.parameters)"
   ]
  },
  {
   "cell_type": "markdown",
   "metadata": {},
   "source": [
    "Models are evaluated like functions, by passing the inputs. Each dimension is a separate input."
   ]
  },
  {
   "cell_type": "code",
   "execution_count": 55,
   "metadata": {
    "collapsed": true
   },
   "outputs": [],
   "source": [
    "x = np.linspace(-2, 5, 100)\n",
    "data = gauss(x)"
   ]
  },
  {
   "cell_type": "code",
   "execution_count": 56,
   "metadata": {
    "collapsed": false,
    "scrolled": true
   },
   "outputs": [
    {
     "data": {
      "text/plain": [
       "[<matplotlib.lines.Line2D at 0x6e864d0>]"
      ]
     },
     "execution_count": 56,
     "metadata": {},
     "output_type": "execute_result"
    },
    {
     "data": {
      "image/png": "[encoded data removed]",
      "text/plain": [
       "<matplotlib.figure.Figure at 0x6c895d0>"
      ]
     },
     "metadata": {},
     "output_type": "display_data"
    }
   ],
   "source": [
    "plt.plot(x, data)\n"
   ]
  },
  {
   "cell_type": "markdown",
   "metadata": {},
   "source": [
    "Add noise to the data and fit a gaussian."
   ]
  },
  {
   "cell_type": "code",
   "execution_count": 57,
   "metadata": {
    "collapsed": false
   },
   "outputs": [
    {
     "data": {
      "text/plain": [
       "[<matplotlib.lines.Line2D at 0x736f290>]"
      ]
     },
     "execution_count": 57,
     "metadata": {},
     "output_type": "execute_result"
    },
    {
     "data": {
      "image/png": "[encoded data removed]",
      "text/plain": [
       "<matplotlib.figure.Figure at 0x7047c50>"
      ]
     },
     "metadata": {},
     "output_type": "display_data"
    }
   ],
   "source": [
    "data = gauss(x) + np.random.normal(0, 0.4, x.shape)\n",
    "plt.plot(x, data)"
   ]
  },
  {
   "cell_type": "markdown",
   "metadata": {},
   "source": [
    "### Fitters"
   ]
  },
  {
   "cell_type": "markdown",
   "metadata": {},
   "source": [
    "Create a fitter which uses the Levenberg-Marquardt optimization algorithm and least squares statistics.\n",
    "Then pass the model and the data to the fitter. The output is a new model with fitted parameters.\n"
   ]
  },
  {
   "cell_type": "code",
   "execution_count": 58,
   "metadata": {
    "collapsed": false
   },
   "outputs": [],
   "source": [
    "fitter = fitting.LevMarLSQFitter()\n",
    "model = fitter(gauss, x, data)"
   ]
  },
  {
   "cell_type": "code",
   "execution_count": 59,
   "metadata": {
    "collapsed": false
   },
   "outputs": [
    {
     "name": "stdout",
     "output_type": "stream",
     "text": [
      "[ 5.28625385  1.41799262  1.09902297]\n"
     ]
    }
   ],
   "source": [
    "print(model.parameters)"
   ]
  },
  {
   "cell_type": "code",
   "execution_count": 60,
   "metadata": {
    "collapsed": false
   },
   "outputs": [
    {
     "data": {
      "text/plain": [
       "[<matplotlib.lines.Line2D at 0x73582d0>]"
      ]
     },
     "execution_count": 60,
     "metadata": {},
     "output_type": "execute_result"
    },
    {
     "data": {
      "image/png": "[encoded data removed]",
      "text/plain": [
       "<matplotlib.figure.Figure at 0x735a190>"
      ]
     },
     "metadata": {},
     "output_type": "display_data"
    }
   ],
   "source": [
    "plt.plot(x, data)\n",
    "plt.plot(x, model(x), 'r')"
   ]
  },
  {
   "cell_type": "markdown",
   "metadata": {},
   "source": [
    "Fitters support parameter constraints of type `fixed`, `tied` and `bounds`.\n",
    "Let's constrain the amplitude to its initial value of 5.3."
   ]
  },
  {
   "cell_type": "code",
   "execution_count": 61,
   "metadata": {
    "collapsed": false
   },
   "outputs": [
    {
     "name": "stdout",
     "output_type": "stream",
     "text": [
      "[ 5.3         1.41794262  1.09715346]\n"
     ]
    }
   ],
   "source": [
    "gauss.amplitude.fixed = True\n",
    "model = fitter(gauss, x, data)\n",
    "print(model.parameters)"
   ]
  },
  {
   "cell_type": "markdown",
   "metadata": {},
   "source": [
    "Bounds can be set on a parameter either by using `min` and `max` or the `bounds` attribute."
   ]
  },
  {
   "cell_type": "code",
   "execution_count": 25,
   "metadata": {
    "collapsed": false
   },
   "outputs": [
    {
     "name": "stdout",
     "output_type": "stream",
     "text": [
      "(0.1, 0.6)\n"
     ]
    }
   ],
   "source": [
    "gauss.stddev.min = .1\n",
    "gauss.stddev.max = .6\n",
    "print(gauss.stddev.bounds)"
   ]
  },
  {
   "cell_type": "markdown",
   "metadata": {},
   "source": [
    "To show the mechanism of tieing (or linking) two parameters in the next example the stddev parameter is tied to the amplitude."
   ]
  },
  {
   "cell_type": "code",
   "execution_count": 26,
   "metadata": {
    "collapsed": true
   },
   "outputs": [],
   "source": [
    "def tie_stddev_ampl(model):\n",
    "    return model.amplitude / 3.78\n",
    "gauss.stddev.tied = tie_stddev_ampl"
   ]
  },
  {
   "cell_type": "code",
   "execution_count": 27,
   "metadata": {
    "collapsed": false
   },
   "outputs": [
    {
     "name": "stdout",
     "output_type": "stream",
     "text": [
      "Model: Gaussian1D\n",
      "Inputs: (u'x',)\n",
      "Outputs: (u'y',)\n",
      "Model set size: 1\n",
      "Parameters:\n",
      "    amplitude      mean         stddev   \n",
      "    --------- ------------- -------------\n",
      "          5.3 1.36405465947 1.40211640212\n"
     ]
    },
    {
     "data": {
      "text/plain": [
       "[<matplotlib.lines.Line2D at 0x6322cd0>]"
      ]
     },
     "execution_count": 27,
     "metadata": {},
     "output_type": "execute_result"
    },
    {
     "data": {
      "image/png": "[encoded data removed]",
      "text/plain": [
       "<matplotlib.figure.Figure at 0x43c6510>"
      ]
     },
     "metadata": {},
     "output_type": "display_data"
    }
   ],
   "source": [
    "model_tied = fitter(gauss, x, data)\n",
    "print(model_tied)\n",
    "plt.plot(x, data)\n",
    "plt.plot(x, model_tied(x))"
   ]
  },
  {
   "cell_type": "markdown",
   "metadata": {},
   "source": [
    "Support for parameter cinstraints varies between fitters. To see what is supported:"
   ]
  },
  {
   "cell_type": "code",
   "execution_count": 28,
   "metadata": {
    "collapsed": false
   },
   "outputs": [
    {
     "name": "stdout",
     "output_type": "stream",
     "text": [
      "[u'fixed', u'tied', u'bounds']\n"
     ]
    }
   ],
   "source": [
    "print(fitting.LevMarLSQFitter.supported_constraints)"
   ]
  },
  {
   "cell_type": "markdown",
   "metadata": {},
   "source": [
    "astropy.modeling has several other fitters: SimplexLSQFitter, SLSQPLSQFitter and LinearLSQFitter.\n",
    "The last one can be used only with linear models and provides an exact solution."
   ]
  },
  {
   "cell_type": "code",
   "execution_count": 29,
   "metadata": {
    "collapsed": false
   },
   "outputs": [
    {
     "data": {
      "text/plain": [
       "[<matplotlib.lines.Line2D at 0x6760a90>]"
      ]
     },
     "execution_count": 29,
     "metadata": {},
     "output_type": "execute_result"
    },
    {
     "data": {
      "image/png": "[encoded data removed]",
      "text/plain": [
       "<matplotlib.figure.Figure at 0x6149650>"
      ]
     },
     "metadata": {},
     "output_type": "display_data"
    }
   ],
   "source": [
    "cheb1 = models.Chebyshev1D(degree=3, c0=1, c2=1, c3=1)\n",
    "plt.plot(x, cheb1(x))"
   ]
  },
  {
   "cell_type": "code",
   "execution_count": 30,
   "metadata": {
    "collapsed": false
   },
   "outputs": [
    {
     "data": {
      "text/plain": [
       "[<matplotlib.lines.Line2D at 0x69dd890>]"
      ]
     },
     "execution_count": 30,
     "metadata": {},
     "output_type": "execute_result"
    },
    {
     "data": {
      "image/png": "[encoded data removed]",
      "text/plain": [
       "<matplotlib.figure.Figure at 0x6563cd0>"
      ]
     },
     "metadata": {},
     "output_type": "display_data"
    }
   ],
   "source": [
    "data = cheb1(x) + np.random.normal(0, 10, x.shape)\n",
    "plt.plot(x, data, 'r')"
   ]
  },
  {
   "cell_type": "code",
   "execution_count": 31,
   "metadata": {
    "collapsed": false
   },
   "outputs": [
    {
     "data": {
      "text/plain": [
       "[<matplotlib.lines.Line2D at 0x6744ed0>]"
      ]
     },
     "execution_count": 31,
     "metadata": {},
     "output_type": "execute_result"
    },
    {
     "data": {
      "image/png": "[encoded data removed]",
      "text/plain": [
       "<matplotlib.figure.Figure at 0x6573c90>"
      ]
     },
     "metadata": {},
     "output_type": "display_data"
    }
   ],
   "source": [
    "linfitter = fitting.LinearLSQFitter()\n",
    "model = linfitter(cheb1, x, data)\n",
    "\n",
    "plt.plot(x, data)\n",
    "plt.plot(x, model(x), 'r')"
   ]
  },
  {
   "cell_type": "markdown",
   "metadata": {},
   "source": [
    "Exercise:\n",
    "\n",
    "- Create a Trapezoid1D model.\n",
    "- Fit a Gaussian1D model to it."
   ]
  },
  {
   "cell_type": "markdown",
   "metadata": {},
   "source": [
    "### Model Sets"
   ]
  },
  {
   "cell_type": "markdown",
   "metadata": {},
   "source": [
    "There are cases when it's useful to describe many models of the same type but with different parameter values.\n",
    "This could be done by passing `n_models` to the model with an integer value indicating the number of models.\n",
    "This is especially useful in the context of simultaneously fitting many linear modelsusin ghte `LinearLSQFittter`.\n",
    "\n",
    "Evaluation of sets of models works for all models while fitting of sets of models is currently supported only for linear models."
   ]
  },
  {
   "cell_type": "code",
   "execution_count": 32,
   "metadata": {
    "collapsed": false
   },
   "outputs": [
    {
     "name": "stdout",
     "output_type": "stream",
     "text": [
      "Model: Polynomial1D\n",
      "Inputs: (u'x',)\n",
      "Outputs: (u'y',)\n",
      "Model set size: 10\n",
      "Degree: 2\n",
      "Parameters:\n",
      "     c0  c1  c2\n",
      "    --- --- ---\n",
      "    0.5 0.0 1.0\n",
      "    0.5 0.0 1.0\n",
      "    0.5 0.0 1.0\n",
      "    0.5 0.0 1.0\n",
      "    0.5 0.0 1.0\n",
      "    0.5 0.0 1.0\n",
      "    0.5 0.0 1.0\n",
      "    0.5 0.0 1.0\n",
      "    0.5 0.0 1.0\n",
      "    0.5 0.0 1.0\n"
     ]
    }
   ],
   "source": [
    "poly = models.Polynomial1D(degree=2, c0=0.5, c1=0, c2=1) # one model\n",
    "poly10 = models.Polynomial1D(degree=2, c0=0.5*np.ones(10), c2=np.ones(10), n_models=10) # 10 models\n",
    "print(poly10)"
   ]
  },
  {
   "cell_type": "code",
   "execution_count": 40,
   "metadata": {
    "collapsed": false
   },
   "outputs": [
    {
     "name": "stdout",
     "output_type": "stream",
     "text": [
      "Model: Polynomial1D\n",
      "Inputs: (u'x',)\n",
      "Outputs: (u'y',)\n",
      "Model set size: 10\n",
      "Degree: 2\n",
      "Parameters:\n",
      "           c0         c1       c2      \n",
      "    ---------------- --- --------------\n",
      "      0.053856067772 0.0  1.07472772768\n",
      "    -0.0645155359501 0.0  1.12932996908\n",
      "      0.032716358185 0.0 0.884817094293\n",
      "     0.0409128090587 0.0 0.975915020557\n",
      "      0.041985784626 0.0 0.961896211966\n",
      "     0.0181084552998 0.0 0.977521909848\n",
      "     0.0916047162604 0.0 0.924029503143\n",
      "     0.0549772022371 0.0  1.00865088708\n",
      "    -0.0116878438516 0.0 0.956242480026\n",
      "    -0.0250337725956 0.0 0.954394449001\n"
     ]
    }
   ],
   "source": [
    "poly10real = models.Polynomial1D(degree=2, c0=0.5*np.ones(10) * np.random.normal(0, .1, 10),\n",
    "                             c2=np.ones(10) * np.random.normal(1, .1, 10), n_models=10)\n",
    "x = np.linspace(-1, 1, 21)\n",
    "data = poly10real(x, model_set_axis=False)\n",
    "print(poly10real)\n"
   ]
  },
  {
   "cell_type": "code",
   "execution_count": 39,
   "metadata": {
    "collapsed": false
   },
   "outputs": [
    {
     "name": "stdout",
     "output_type": "stream",
     "text": [
      "Model: Polynomial1D\n",
      "Inputs: (u'x',)\n",
      "Outputs: (u'y',)\n",
      "Model set size: 10\n",
      "Degree: 2\n",
      "Parameters:\n",
      "            c0                 c1               c2      \n",
      "    ------------------ ------------------ --------------\n",
      "      -0.0300617474005 -1.15347846714e-16  1.11888083041\n",
      "      -0.0885319202649                0.0 0.995360524068\n",
      "        0.054452664866                0.0 0.903470156236\n",
      "       0.0110615288648  1.15347846714e-16 0.843091140133\n",
      "       0.0201613058869                0.0  1.21723261338\n",
      "      -0.0700876025605                0.0  1.13843792372\n",
      "      0.00349589483379 -1.15347846714e-16 0.977640711086\n",
      "       0.0397199984183 -1.15347846714e-16  1.20382386178\n",
      "    -0.000409007603735                0.0  1.10456701069\n",
      "       -0.103385529901  1.15347846714e-16 0.992803397379\n"
     ]
    },
    {
     "data": {
      "image/png": "[encoded data removed]",
      "text/plain": [
       "<matplotlib.figure.Figure at 0x6a6e4d0>"
      ]
     },
     "metadata": {},
     "output_type": "display_data"
    }
   ],
   "source": [
    "fitpoly = linfitter(poly10, x, data)\n",
    "print(fitpoly)\n",
    "fitdata = fitpoly(x, model_set_axis=False)\n",
    "for i in fitdata:\n",
    "    plt.plot(x, i)"
   ]
  },
  {
   "cell_type": "markdown",
   "metadata": {},
   "source": [
    "### Compound models"
   ]
  },
  {
   "cell_type": "markdown",
   "metadata": {},
   "source": [
    "astropy.modeling supports model combination using arithmetic operators and the specially defined join (&) and composition ( | ) operators."
   ]
  },
  {
   "cell_type": "code",
   "execution_count": 51,
   "metadata": {
    "collapsed": false
   },
   "outputs": [],
   "source": [
    "g1 = models.Gaussian1D(2, 0, 0.2, name='g1') # models have names\n",
    "g2 = models.Gaussian1D(3, 4, 1.5, name='g2')\n",
    "p1 = models.Polynomial1D(1, c0=1, c1=0.2, name='poly')\n",
    "model = g1 + g2 + p1"
   ]
  },
  {
   "cell_type": "markdown",
   "metadata": {},
   "source": [
    "Evaluating \"model\" is equivalent to g1(x) + g2(x) + p1(x)."
   ]
  },
  {
   "cell_type": "code",
   "execution_count": 52,
   "metadata": {
    "collapsed": false
   },
   "outputs": [
    {
     "data": {
      "text/plain": [
       "True"
      ]
     },
     "execution_count": 52,
     "metadata": {},
     "output_type": "execute_result"
    }
   ],
   "source": [
    "model(2.5) == g1(2.5) + g2(2.5) + p1(2.5)"
   ]
  },
  {
   "cell_type": "markdown",
   "metadata": {},
   "source": [
    "The other arithmetic operators work similarly. The only requirement is that all models accept the same input.\n",
    "\n",
    "Compound models support the `parameters` attribute the same way simple models do."
   ]
  },
  {
   "cell_type": "code",
   "execution_count": 53,
   "metadata": {
    "collapsed": false
   },
   "outputs": [
    {
     "name": "stdout",
     "output_type": "stream",
     "text": [
      "(u'amplitude_0', u'mean_0', u'stddev_0', u'amplitude_1', u'mean_1', u'stddev_1', u'c0_2', u'c1_2')\n",
      "[ 2.   0.   0.2  3.   4.   1.5  1.   0.2]\n"
     ]
    }
   ],
   "source": [
    "print(model.param_names)\n",
    "print(model.parameters)"
   ]
  },
  {
   "cell_type": "code",
   "execution_count": 54,
   "metadata": {
    "collapsed": false
   },
   "outputs": [
    {
     "name": "stdout",
     "output_type": "stream",
     "text": [
      "[ 10.    0.    0.2   3.    4.    1.5   1.    0.2]\n"
     ]
    }
   ],
   "source": [
    "model.amplitude_0 = 10\n",
    "print(model.parameters)"
   ]
  },
  {
   "cell_type": "code",
   "execution_count": 34,
   "metadata": {
    "collapsed": false
   },
   "outputs": [
    {
     "name": "stdout",
     "output_type": "stream",
     "text": [
      "('g1', 'g2', 'poly')\n"
     ]
    }
   ],
   "source": [
    "print(model.submodel_names)"
   ]
  },
  {
   "cell_type": "markdown",
   "metadata": {},
   "source": [
    "Compound models can be sliced or indexed using their names or numerical indices line python lists."
   ]
  },
  {
   "cell_type": "code",
   "execution_count": 56,
   "metadata": {
    "collapsed": false
   },
   "outputs": [
    {
     "name": "stdout",
     "output_type": "stream",
     "text": [
      "Model: Gaussian1D\n",
      "Name: g2\n",
      "Inputs: (u'x',)\n",
      "Outputs: (u'y',)\n",
      "Model set size: 1\n",
      "Parameters:\n",
      "    amplitude mean stddev\n",
      "    --------- ---- ------\n",
      "          3.0  4.0    1.5\n"
     ]
    }
   ],
   "source": [
    "print(model['g2'])"
   ]
  },
  {
   "cell_type": "code",
   "execution_count": 57,
   "metadata": {
    "collapsed": false
   },
   "outputs": [
    {
     "name": "stdout",
     "output_type": "stream",
     "text": [
      "Model: CompoundModel2\n",
      "Inputs: (u'x',)\n",
      "Outputs: (u'y',)\n",
      "Model set size: 1\n",
      "Parameters:\n",
      "    amplitude_1 mean_1 stddev_1 c0_2 c1_2\n",
      "    ----------- ------ -------- ---- ----\n",
      "            3.0    4.0      1.5  1.0  0.2\n"
     ]
    }
   ],
   "source": [
    "print(model['g2' : ])"
   ]
  },
  {
   "cell_type": "markdown",
   "metadata": {},
   "source": [
    "The composition operator, |, combines models serially by chaining them one after the other. The number of outputs of a model must match the number of inputs of the next one."
   ]
  },
  {
   "cell_type": "code",
   "execution_count": 59,
   "metadata": {
    "collapsed": true
   },
   "outputs": [],
   "source": [
    "p2_1 = models.Polynomial2D(degree=1, c0_0=2, c0_1=.1, c1_0=2, name='Poly_X')\n",
    "rot = models.Rotation2D(angle=23.1, name='Rotation')"
   ]
  },
  {
   "cell_type": "code",
   "execution_count": 60,
   "metadata": {
    "collapsed": false
   },
   "outputs": [
    {
     "ename": "ModelDefinitionError",
     "evalue": "Unsupported operands for |: Poly_X (n_inputs=2, n_outputs=1) and Rotation (n_inputs=2, n_outputs=2); n_outputs for the left-hand model must match n_inputs for the right-hand model.",
     "output_type": "error",
     "traceback": [
      "\u001b[1;31m---------------------------------------------------------------------------\u001b[0m",
      "\u001b[1;31mModelDefinitionError\u001b[0m                      Traceback (most recent call last)",
      "\u001b[1;32m<ipython-input-60-6928173b554b>\u001b[0m in \u001b[0;36m<module>\u001b[1;34m()\u001b[0m\n\u001b[1;32m----> 1\u001b[1;33m \u001b[0mbroken_model\u001b[0m \u001b[1;33m=\u001b[0m \u001b[0mp2_1\u001b[0m \u001b[1;33m|\u001b[0m \u001b[0mrot\u001b[0m\u001b[1;33m\u001b[0m\u001b[0m\n\u001b[0m",
      "\u001b[1;32mC:\\Anaconda2\\lib\\site-packages\\astropy\\modeling\\core.pyc\u001b[0m in \u001b[0;36m<lambda>\u001b[1;34m(left, right)\u001b[0m\n\u001b[0;32m     70\u001b[0m     \u001b[1;31m# Perform an arithmetic operation on two models.\u001b[0m\u001b[1;33m\u001b[0m\u001b[1;33m\u001b[0m\u001b[0m\n\u001b[0;32m     71\u001b[0m     return lambda left, right: _CompoundModelMeta._from_operator(oper,\n\u001b[1;32m---> 72\u001b[1;33m             left, right, **kwargs)\n\u001b[0m\u001b[0;32m     73\u001b[0m \u001b[1;33m\u001b[0m\u001b[0m\n\u001b[0;32m     74\u001b[0m \u001b[1;33m\u001b[0m\u001b[0m\n",
      "\u001b[1;32mC:\\Anaconda2\\lib\\site-packages\\astropy\\modeling\\core.pyc\u001b[0m in \u001b[0;36m_from_operator\u001b[1;34m(mcls, operator, left, right, additional_members)\u001b[0m\n\u001b[0;32m   1704\u001b[0m                     \"for the right-hand model.\".format(\n\u001b[0;32m   1705\u001b[0m                         \u001b[0mleft\u001b[0m\u001b[1;33m.\u001b[0m\u001b[0mname\u001b[0m\u001b[1;33m,\u001b[0m \u001b[0mleft\u001b[0m\u001b[1;33m.\u001b[0m\u001b[0mn_inputs\u001b[0m\u001b[1;33m,\u001b[0m \u001b[0mleft\u001b[0m\u001b[1;33m.\u001b[0m\u001b[0mn_outputs\u001b[0m\u001b[1;33m,\u001b[0m \u001b[0mright\u001b[0m\u001b[1;33m.\u001b[0m\u001b[0mname\u001b[0m\u001b[1;33m,\u001b[0m\u001b[1;33m\u001b[0m\u001b[0m\n\u001b[1;32m-> 1706\u001b[1;33m                         right.n_inputs, right.n_outputs))\n\u001b[0m\u001b[0;32m   1707\u001b[0m         \u001b[1;32melif\u001b[0m \u001b[0moperator\u001b[0m \u001b[1;33m==\u001b[0m \u001b[1;34m'&'\u001b[0m\u001b[1;33m:\u001b[0m\u001b[1;33m\u001b[0m\u001b[0m\n\u001b[0;32m   1708\u001b[0m             \u001b[0minputs\u001b[0m \u001b[1;33m=\u001b[0m \u001b[0mcombine_labels\u001b[0m\u001b[1;33m(\u001b[0m\u001b[0mleft\u001b[0m\u001b[1;33m.\u001b[0m\u001b[0minputs\u001b[0m\u001b[1;33m,\u001b[0m \u001b[0mright\u001b[0m\u001b[1;33m.\u001b[0m\u001b[0minputs\u001b[0m\u001b[1;33m)\u001b[0m\u001b[1;33m\u001b[0m\u001b[0m\n",
      "\u001b[1;31mModelDefinitionError\u001b[0m: Unsupported operands for |: Poly_X (n_inputs=2, n_outputs=1) and Rotation (n_inputs=2, n_outputs=2); n_outputs for the left-hand model must match n_inputs for the right-hand model."
     ]
    }
   ],
   "source": [
    "broken_model = p2_1 | rot "
   ]
  },
  {
   "cell_type": "markdown",
   "metadata": {},
   "source": [
    "The join operator, &, evaluates the child models on independent inputs and the results are concatenated.\n",
    "The number of inputs passed to the combined model must equal the total number of inputs of all models."
   ]
  },
  {
   "cell_type": "code",
   "execution_count": 61,
   "metadata": {
    "collapsed": true
   },
   "outputs": [],
   "source": [
    "p2_2 = models.Polynomial2D(degree=1, c0_0=1, c1_0=2, name='Poly_Y')\n",
    "model = p2_1 & p2_2 | rot"
   ]
  },
  {
   "cell_type": "code",
   "execution_count": 62,
   "metadata": {
    "collapsed": false
   },
   "outputs": [
    {
     "name": "stdout",
     "output_type": "stream",
     "text": [
      "(2.8420434013885805, 4.908603600274077)\n"
     ]
    }
   ],
   "source": [
    "#x = np.linspace(1, 10, 23)\n",
    "#y = np.linspace(-10, 10, 23)\n",
    "#plt.imshow(model(x, y, x, y))\n",
    "x = 1.2\n",
    "y = 1.4\n",
    "print(model(x, y, x, y))"
   ]
  },
  {
   "cell_type": "markdown",
   "metadata": {},
   "source": [
    "The `Mapping` model takes a tuple of indices into the inputs and returns the corresponding inputs. It is useful for changing the order of inputs, dropping or adding inputs. "
   ]
  },
  {
   "cell_type": "code",
   "execution_count": 39,
   "metadata": {
    "collapsed": false
   },
   "outputs": [
    {
     "name": "stdout",
     "output_type": "stream",
     "text": [
      "(2.8420434013885805, 4.908603600274077)\n"
     ]
    }
   ],
   "source": [
    "model = models.Mapping((0, 1, 0, 1)) | p2_1 & p2_2 | rot\n",
    "print(model(x, y))"
   ]
  },
  {
   "cell_type": "markdown",
   "metadata": {},
   "source": [
    "Compound models also support parameter constraints. Constraints are defined on parameters of the compound model, not parameters of the submodels."
   ]
  },
  {
   "cell_type": "code",
   "execution_count": null,
   "metadata": {
    "collapsed": false
   },
   "outputs": [],
   "source": [
    "from astropy.io import ascii\n",
    "sdss = ascii.read('data/sample_sdss.txt')\n",
    "sdss.colnames"
   ]
  },
  {
   "cell_type": "code",
   "execution_count": 93,
   "metadata": {
    "collapsed": false
   },
   "outputs": [
    {
     "data": {
      "application/javascript": [
       "/* Put everything inside the global mpl namespace */\n",
       "window.mpl = {};\n",
       "\n",
       "mpl.get_websocket_type = function() {\n",
       "    if (typeof(WebSocket) !== 'undefined') {\n",
       "        return WebSocket;\n",
       "    } else if (typeof(MozWebSocket) !== 'undefined') {\n",
       "        return MozWebSocket;\n",
       "    } else {\n",
       "        alert('Your browser does not have WebSocket support.' +\n",
       "              'Please try Chrome, Safari or Firefox ≥ 6. ' +\n",
       "              'Firefox 4 and 5 are also supported but you ' +\n",
       "              'have to enable WebSockets in about:config.');\n",
       "    };\n",
       "}\n",
       "\n",
       "mpl.figure = function(figure_id, websocket, ondownload, parent_element) {\n",
       "    this.id = figure_id;\n",
       "\n",
       "    this.ws = websocket;\n",
       "\n",
       "    this.supports_binary = (this.ws.binaryType != undefined);\n",
       "\n",
       "    if (!this.supports_binary) {\n",
       "        var warnings = document.getElementById(\"mpl-warnings\");\n",
       "        if (warnings) {\n",
       "            warnings.style.display = 'block';\n",
       "            warnings.textContent = (\n",
       "                \"This browser does not support binary websocket messages. \" +\n",
       "                    \"Performance may be slow.\");\n",
       "        }\n",
       "    }\n",
       "\n",
       "    this.imageObj = new Image();\n",
       "\n",
       "    this.context = undefined;\n",
       "    this.message = undefined;\n",
       "    this.canvas = undefined;\n",
       "    this.rubberband_canvas = undefined;\n",
       "    this.rubberband_context = undefined;\n",
       "    this.format_dropdown = undefined;\n",
       "\n",
       "    this.image_mode = 'full';\n",
       "\n",
       "    this.root = $('<div/>');\n",
       "    this._root_extra_style(this.root)\n",
       "    this.root.attr('style', 'display: inline-block');\n",
       "\n",
       "    $(parent_element).append(this.root);\n",
       "\n",
       "    this._init_header(this);\n",
       "    this._init_canvas(this);\n",
       "    this._init_toolbar(this);\n",
       "\n",
       "    var fig = this;\n",
       "\n",
       "    this.waiting = false;\n",
       "\n",
       "    this.ws.onopen =  function () {\n",
       "            fig.send_message(\"supports_binary\", {value: fig.supports_binary});\n",
       "            fig.send_message(\"send_image_mode\", {});\n",
       "            fig.send_message(\"refresh\", {});\n",
       "        }\n",
       "\n",
       "    this.imageObj.onload = function() {\n",
       "            if (fig.image_mode == 'full') {\n",
       "                // Full images could contain transparency (where diff images\n",
       "                // almost always do), so we need to clear the canvas so that\n",
       "                // there is no ghosting.\n",
       "                fig.context.clearRect(0, 0, fig.canvas.width, fig.canvas.height);\n",
       "            }\n",
       "            fig.context.drawImage(fig.imageObj, 0, 0);\n",
       "        };\n",
       "\n",
       "    this.imageObj.onunload = function() {\n",
       "        this.ws.close();\n",
       "    }\n",
       "\n",
       "    this.ws.onmessage = this._make_on_message_function(this);\n",
       "\n",
       "    this.ondownload = ondownload;\n",
       "}\n",
       "\n",
       "mpl.figure.prototype._init_header = function() {\n",
       "    var titlebar = $(\n",
       "        '<div class=\"ui-dialog-titlebar ui-widget-header ui-corner-all ' +\n",
       "        'ui-helper-clearfix\"/>');\n",
       "    var titletext = $(\n",
       "        '<div class=\"ui-dialog-title\" style=\"width: 100%; ' +\n",
       "        'text-align: center; padding: 3px;\"/>');\n",
       "    titlebar.append(titletext)\n",
       "    this.root.append(titlebar);\n",
       "    this.header = titletext[0];\n",
       "}\n",
       "\n",
       "\n",
       "\n",
       "mpl.figure.prototype._canvas_extra_style = function(canvas_div) {\n",
       "\n",
       "}\n",
       "\n",
       "\n",
       "mpl.figure.prototype._root_extra_style = function(canvas_div) {\n",
       "\n",
       "}\n",
       "\n",
       "mpl.figure.prototype._init_canvas = function() {\n",
       "    var fig = this;\n",
       "\n",
       "    var canvas_div = $('<div/>');\n",
       "\n",
       "    canvas_div.attr('style', 'position: relative; clear: both; outline: 0');\n",
       "\n",
       "    function canvas_keyboard_event(event) {\n",
       "        return fig.key_event(event, event['data']);\n",
       "    }\n",
       "\n",
       "    canvas_div.keydown('key_press', canvas_keyboard_event);\n",
       "    canvas_div.keyup('key_release', canvas_keyboard_event);\n",
       "    this.canvas_div = canvas_div\n",
       "    this._canvas_extra_style(canvas_div)\n",
       "    this.root.append(canvas_div);\n",
       "\n",
       "    var canvas = $('<canvas/>');\n",
       "    canvas.addClass('mpl-canvas');\n",
       "    canvas.attr('style', \"left: 0; top: 0; z-index: 0; outline: 0\")\n",
       "\n",
       "    this.canvas = canvas[0];\n",
       "    this.context = canvas[0].getContext(\"2d\");\n",
       "\n",
       "    var rubberband = $('<canvas/>');\n",
       "    rubberband.attr('style', \"position: absolute; left: 0; top: 0; z-index: 1;\")\n",
       "\n",
       "    var pass_mouse_events = true;\n",
       "\n",
       "    canvas_div.resizable({\n",
       "        start: function(event, ui) {\n",
       "            pass_mouse_events = false;\n",
       "        },\n",
       "        resize: function(event, ui) {\n",
       "            fig.request_resize(ui.size.width, ui.size.height);\n",
       "        },\n",
       "        stop: function(event, ui) {\n",
       "            pass_mouse_events = true;\n",
       "            fig.request_resize(ui.size.width, ui.size.height);\n",
       "        },\n",
       "    });\n",
       "\n",
       "    function mouse_event_fn(event) {\n",
       "        if (pass_mouse_events)\n",
       "            return fig.mouse_event(event, event['data']);\n",
       "    }\n",
       "\n",
       "    rubberband.mousedown('button_press', mouse_event_fn);\n",
       "    rubberband.mouseup('button_release', mouse_event_fn);\n",
       "    // Throttle sequential mouse events to 1 every 20ms.\n",
       "    rubberband.mousemove('motion_notify', mouse_event_fn);\n",
       "\n",
       "    rubberband.mouseenter('figure_enter', mouse_event_fn);\n",
       "    rubberband.mouseleave('figure_leave', mouse_event_fn);\n",
       "\n",
       "    canvas_div.on(\"wheel\", function (event) {\n",
       "        event = event.originalEvent;\n",
       "        event['data'] = 'scroll'\n",
       "        if (event.deltaY < 0) {\n",
       "            event.step = 1;\n",
       "        } else {\n",
       "            event.step = -1;\n",
       "        }\n",
       "        mouse_event_fn(event);\n",
       "    });\n",
       "\n",
       "    canvas_div.append(canvas);\n",
       "    canvas_div.append(rubberband);\n",
       "\n",
       "    this.rubberband = rubberband;\n",
       "    this.rubberband_canvas = rubberband[0];\n",
       "    this.rubberband_context = rubberband[0].getContext(\"2d\");\n",
       "    this.rubberband_context.strokeStyle = \"#000000\";\n",
       "\n",
       "    this._resize_canvas = function(width, height) {\n",
       "        // Keep the size of the canvas, canvas container, and rubber band\n",
       "        // canvas in synch.\n",
       "        canvas_div.css('width', width)\n",
       "        canvas_div.css('height', height)\n",
       "\n",
       "        canvas.attr('width', width);\n",
       "        canvas.attr('height', height);\n",
       "\n",
       "        rubberband.attr('width', width);\n",
       "        rubberband.attr('height', height);\n",
       "    }\n",
       "\n",
       "    // Set the figure to an initial 600x600px, this will subsequently be updated\n",
       "    // upon first draw.\n",
       "    this._resize_canvas(600, 600);\n",
       "\n",
       "    // Disable right mouse context menu.\n",
       "    $(this.rubberband_canvas).bind(\"contextmenu\",function(e){\n",
       "        return false;\n",
       "    });\n",
       "\n",
       "    function set_focus () {\n",
       "        canvas.focus();\n",
       "        canvas_div.focus();\n",
       "    }\n",
       "\n",
       "    window.setTimeout(set_focus, 100);\n",
       "}\n",
       "\n",
       "mpl.figure.prototype._init_toolbar = function() {\n",
       "    var fig = this;\n",
       "\n",
       "    var nav_element = $('<div/>')\n",
       "    nav_element.attr('style', 'width: 100%');\n",
       "    this.root.append(nav_element);\n",
       "\n",
       "    // Define a callback function for later on.\n",
       "    function toolbar_event(event) {\n",
       "        return fig.toolbar_button_onclick(event['data']);\n",
       "    }\n",
       "    function toolbar_mouse_event(event) {\n",
       "        return fig.toolbar_button_onmouseover(event['data']);\n",
       "    }\n",
       "\n",
       "    for(var toolbar_ind in mpl.toolbar_items) {\n",
       "        var name = mpl.toolbar_items[toolbar_ind][0];\n",
       "        var tooltip = mpl.toolbar_items[toolbar_ind][1];\n",
       "        var image = mpl.toolbar_items[toolbar_ind][2];\n",
       "        var method_name = mpl.toolbar_items[toolbar_ind][3];\n",
       "\n",
       "        if (!name) {\n",
       "            // put a spacer in here.\n",
       "            continue;\n",
       "        }\n",
       "        var button = $('<button/>');\n",
       "        button.addClass('ui-button ui-widget ui-state-default ui-corner-all ' +\n",
       "                        'ui-button-icon-only');\n",
       "        button.attr('role', 'button');\n",
       "        button.attr('aria-disabled', 'false');\n",
       "        button.click(method_name, toolbar_event);\n",
       "        button.mouseover(tooltip, toolbar_mouse_event);\n",
       "\n",
       "        var icon_img = $('<span/>');\n",
       "        icon_img.addClass('ui-button-icon-primary ui-icon');\n",
       "        icon_img.addClass(image);\n",
       "        icon_img.addClass('ui-corner-all');\n",
       "\n",
       "        var tooltip_span = $('<span/>');\n",
       "        tooltip_span.addClass('ui-button-text');\n",
       "        tooltip_span.html(tooltip);\n",
       "\n",
       "        button.append(icon_img);\n",
       "        button.append(tooltip_span);\n",
       "\n",
       "        nav_element.append(button);\n",
       "    }\n",
       "\n",
       "    var fmt_picker_span = $('<span/>');\n",
       "\n",
       "    var fmt_picker = $('<select/>');\n",
       "    fmt_picker.addClass('mpl-toolbar-option ui-widget ui-widget-content');\n",
       "    fmt_picker_span.append(fmt_picker);\n",
       "    nav_element.append(fmt_picker_span);\n",
       "    this.format_dropdown = fmt_picker[0];\n",
       "\n",
       "    for (var ind in mpl.extensions) {\n",
       "        var fmt = mpl.extensions[ind];\n",
       "        var option = $(\n",
       "            '<option/>', {selected: fmt === mpl.default_extension}).html(fmt);\n",
       "        fmt_picker.append(option)\n",
       "    }\n",
       "\n",
       "    // Add hover states to the ui-buttons\n",
       "    $( \".ui-button\" ).hover(\n",
       "        function() { $(this).addClass(\"ui-state-hover\");},\n",
       "        function() { $(this).removeClass(\"ui-state-hover\");}\n",
       "    );\n",
       "\n",
       "    var status_bar = $('<span class=\"mpl-message\"/>');\n",
       "    nav_element.append(status_bar);\n",
       "    this.message = status_bar[0];\n",
       "}\n",
       "\n",
       "mpl.figure.prototype.request_resize = function(x_pixels, y_pixels) {\n",
       "    // Request matplotlib to resize the figure. Matplotlib will then trigger a resize in the client,\n",
       "    // which will in turn request a refresh of the image.\n",
       "    this.send_message('resize', {'width': x_pixels, 'height': y_pixels});\n",
       "}\n",
       "\n",
       "mpl.figure.prototype.send_message = function(type, properties) {\n",
       "    properties['type'] = type;\n",
       "    properties['figure_id'] = this.id;\n",
       "    this.ws.send(JSON.stringify(properties));\n",
       "}\n",
       "\n",
       "mpl.figure.prototype.send_draw_message = function() {\n",
       "    if (!this.waiting) {\n",
       "        this.waiting = true;\n",
       "        this.ws.send(JSON.stringify({type: \"draw\", figure_id: this.id}));\n",
       "    }\n",
       "}\n",
       "\n",
       "\n",
       "mpl.figure.prototype.handle_save = function(fig, msg) {\n",
       "    var format_dropdown = fig.format_dropdown;\n",
       "    var format = format_dropdown.options[format_dropdown.selectedIndex].value;\n",
       "    fig.ondownload(fig, format);\n",
       "}\n",
       "\n",
       "\n",
       "mpl.figure.prototype.handle_resize = function(fig, msg) {\n",
       "    var size = msg['size'];\n",
       "    if (size[0] != fig.canvas.width || size[1] != fig.canvas.height) {\n",
       "        fig._resize_canvas(size[0], size[1]);\n",
       "        fig.send_message(\"refresh\", {});\n",
       "    };\n",
       "}\n",
       "\n",
       "mpl.figure.prototype.handle_rubberband = function(fig, msg) {\n",
       "    var x0 = msg['x0'];\n",
       "    var y0 = fig.canvas.height - msg['y0'];\n",
       "    var x1 = msg['x1'];\n",
       "    var y1 = fig.canvas.height - msg['y1'];\n",
       "    x0 = Math.floor(x0) + 0.5;\n",
       "    y0 = Math.floor(y0) + 0.5;\n",
       "    x1 = Math.floor(x1) + 0.5;\n",
       "    y1 = Math.floor(y1) + 0.5;\n",
       "    var min_x = Math.min(x0, x1);\n",
       "    var min_y = Math.min(y0, y1);\n",
       "    var width = Math.abs(x1 - x0);\n",
       "    var height = Math.abs(y1 - y0);\n",
       "\n",
       "    fig.rubberband_context.clearRect(\n",
       "        0, 0, fig.canvas.width, fig.canvas.height);\n",
       "\n",
       "    fig.rubberband_context.strokeRect(min_x, min_y, width, height);\n",
       "}\n",
       "\n",
       "mpl.figure.prototype.handle_figure_label = function(fig, msg) {\n",
       "    // Updates the figure title.\n",
       "    fig.header.textContent = msg['label'];\n",
       "}\n",
       "\n",
       "mpl.figure.prototype.handle_cursor = function(fig, msg) {\n",
       "    var cursor = msg['cursor'];\n",
       "    switch(cursor)\n",
       "    {\n",
       "    case 0:\n",
       "        cursor = 'pointer';\n",
       "        break;\n",
       "    case 1:\n",
       "        cursor = 'default';\n",
       "        break;\n",
       "    case 2:\n",
       "        cursor = 'crosshair';\n",
       "        break;\n",
       "    case 3:\n",
       "        cursor = 'move';\n",
       "        break;\n",
       "    }\n",
       "    fig.rubberband_canvas.style.cursor = cursor;\n",
       "}\n",
       "\n",
       "mpl.figure.prototype.handle_message = function(fig, msg) {\n",
       "    fig.message.textContent = msg['message'];\n",
       "}\n",
       "\n",
       "mpl.figure.prototype.handle_draw = function(fig, msg) {\n",
       "    // Request the server to send over a new figure.\n",
       "    fig.send_draw_message();\n",
       "}\n",
       "\n",
       "mpl.figure.prototype.handle_image_mode = function(fig, msg) {\n",
       "    fig.image_mode = msg['mode'];\n",
       "}\n",
       "\n",
       "mpl.figure.prototype.updated_canvas_event = function() {\n",
       "    // Called whenever the canvas gets updated.\n",
       "    this.send_message(\"ack\", {});\n",
       "}\n",
       "\n",
       "// A function to construct a web socket function for onmessage handling.\n",
       "// Called in the figure constructor.\n",
       "mpl.figure.prototype._make_on_message_function = function(fig) {\n",
       "    return function socket_on_message(evt) {\n",
       "        if (evt.data instanceof Blob) {\n",
       "            /* FIXME: We get \"Resource interpreted as Image but\n",
       "             * transferred with MIME type text/plain:\" errors on\n",
       "             * Chrome.  But how to set the MIME type?  It doesn't seem\n",
       "             * to be part of the websocket stream */\n",
       "            evt.data.type = \"image/png\";\n",
       "\n",
       "            /* Free the memory for the previous frames */\n",
       "            if (fig.imageObj.src) {\n",
       "                (window.URL || window.webkitURL).revokeObjectURL(\n",
       "                    fig.imageObj.src);\n",
       "            }\n",
       "\n",
       "            fig.imageObj.src = (window.URL || window.webkitURL).createObjectURL(\n",
       "                evt.data);\n",
       "            fig.updated_canvas_event();\n",
       "            fig.waiting = false;\n",
       "            return;\n",
       "        }\n",
       "        else if (typeof evt.data === 'string' && evt.data.slice(0, 21) == \"data:image/png;base64\") {\n",
       "            fig.imageObj.src = evt.data;\n",
       "            fig.updated_canvas_event();\n",
       "            fig.waiting = false;\n",
       "            return;\n",
       "        }\n",
       "\n",
       "        var msg = JSON.parse(evt.data);\n",
       "        var msg_type = msg['type'];\n",
       "\n",
       "        // Call the  \"handle_{type}\" callback, which takes\n",
       "        // the figure and JSON message as its only arguments.\n",
       "        try {\n",
       "            var callback = fig[\"handle_\" + msg_type];\n",
       "        } catch (e) {\n",
       "            console.log(\"No handler for the '\" + msg_type + \"' message type: \", msg);\n",
       "            return;\n",
       "        }\n",
       "\n",
       "        if (callback) {\n",
       "            try {\n",
       "                // console.log(\"Handling '\" + msg_type + \"' message: \", msg);\n",
       "                callback(fig, msg);\n",
       "            } catch (e) {\n",
       "                console.log(\"Exception inside the 'handler_\" + msg_type + \"' callback:\", e, e.stack, msg);\n",
       "            }\n",
       "        }\n",
       "    };\n",
       "}\n",
       "\n",
       "// from http://stackoverflow.com/questions/1114465/getting-mouse-location-in-canvas\n",
       "mpl.findpos = function(e) {\n",
       "    //this section is from http://www.quirksmode.org/js/events_properties.html\n",
       "    var targ;\n",
       "    if (!e)\n",
       "        e = window.event;\n",
       "    if (e.target)\n",
       "        targ = e.target;\n",
       "    else if (e.srcElement)\n",
       "        targ = e.srcElement;\n",
       "    if (targ.nodeType == 3) // defeat Safari bug\n",
       "        targ = targ.parentNode;\n",
       "\n",
       "    // jQuery normalizes the pageX and pageY\n",
       "    // pageX,Y are the mouse positions relative to the document\n",
       "    // offset() returns the position of the element relative to the document\n",
       "    var x = e.pageX - $(targ).offset().left;\n",
       "    var y = e.pageY - $(targ).offset().top;\n",
       "\n",
       "    return {\"x\": x, \"y\": y};\n",
       "};\n",
       "\n",
       "/*\n",
       " * return a copy of an object with only non-object keys\n",
       " * we need this to avoid circular references\n",
       " * http://stackoverflow.com/a/24161582/3208463\n",
       " */\n",
       "function simpleKeys (original) {\n",
       "  return Object.keys(original).reduce(function (obj, key) {\n",
       "    if (typeof original[key] !== 'object')\n",
       "        obj[key] = original[key]\n",
       "    return obj;\n",
       "  }, {});\n",
       "}\n",
       "\n",
       "mpl.figure.prototype.mouse_event = function(event, name) {\n",
       "    var canvas_pos = mpl.findpos(event)\n",
       "\n",
       "    if (name === 'button_press')\n",
       "    {\n",
       "        this.canvas.focus();\n",
       "        this.canvas_div.focus();\n",
       "    }\n",
       "\n",
       "    var x = canvas_pos.x;\n",
       "    var y = canvas_pos.y;\n",
       "\n",
       "    this.send_message(name, {x: x, y: y, button: event.button,\n",
       "                             step: event.step,\n",
       "                             guiEvent: simpleKeys(event)});\n",
       "\n",
       "    /* This prevents the web browser from automatically changing to\n",
       "     * the text insertion cursor when the button is pressed.  We want\n",
       "     * to control all of the cursor setting manually through the\n",
       "     * 'cursor' event from matplotlib */\n",
       "    event.preventDefault();\n",
       "    return false;\n",
       "}\n",
       "\n",
       "mpl.figure.prototype._key_event_extra = function(event, name) {\n",
       "    // Handle any extra behaviour associated with a key event\n",
       "}\n",
       "\n",
       "mpl.figure.prototype.key_event = function(event, name) {\n",
       "\n",
       "    // Prevent repeat events\n",
       "    if (name == 'key_press')\n",
       "    {\n",
       "        if (event.which === this._key)\n",
       "            return;\n",
       "        else\n",
       "            this._key = event.which;\n",
       "    }\n",
       "    if (name == 'key_release')\n",
       "        this._key = null;\n",
       "\n",
       "    var value = '';\n",
       "    if (event.ctrlKey && event.which != 17)\n",
       "        value += \"ctrl+\";\n",
       "    if (event.altKey && event.which != 18)\n",
       "        value += \"alt+\";\n",
       "    if (event.shiftKey && event.which != 16)\n",
       "        value += \"shift+\";\n",
       "\n",
       "    value += 'k';\n",
       "    value += event.which.toString();\n",
       "\n",
       "    this._key_event_extra(event, name);\n",
       "\n",
       "    this.send_message(name, {key: value,\n",
       "                             guiEvent: simpleKeys(event)});\n",
       "    return false;\n",
       "}\n",
       "\n",
       "mpl.figure.prototype.toolbar_button_onclick = function(name) {\n",
       "    if (name == 'download') {\n",
       "        this.handle_save(this, null);\n",
       "    } else {\n",
       "        this.send_message(\"toolbar_button\", {name: name});\n",
       "    }\n",
       "};\n",
       "\n",
       "mpl.figure.prototype.toolbar_button_onmouseover = function(tooltip) {\n",
       "    this.message.textContent = tooltip;\n",
       "};\n",
       "mpl.toolbar_items = [[\"Home\", \"Reset original view\", \"fa fa-home icon-home\", \"home\"], [\"Back\", \"Back to  previous view\", \"fa fa-arrow-left icon-arrow-left\", \"back\"], [\"Forward\", \"Forward to next view\", \"fa fa-arrow-right icon-arrow-right\", \"forward\"], [\"\", \"\", \"\", \"\"], [\"Pan\", \"Pan axes with left mouse, zoom with right\", \"fa fa-arrows icon-move\", \"pan\"], [\"Zoom\", \"Zoom to rectangle\", \"fa fa-square-o icon-check-empty\", \"zoom\"], [\"\", \"\", \"\", \"\"], [\"Download\", \"Download plot\", \"fa fa-floppy-o icon-save\", \"download\"]];\n",
       "\n",
       "mpl.extensions = [\"eps\", \"jpeg\", \"pdf\", \"png\", \"ps\", \"raw\", \"svg\", \"tif\"];\n",
       "\n",
       "mpl.default_extension = \"png\";var comm_websocket_adapter = function(comm) {\n",
       "    // Create a \"websocket\"-like object which calls the given IPython comm\n",
       "    // object with the appropriate methods. Currently this is a non binary\n",
       "    // socket, so there is still some room for performance tuning.\n",
       "    var ws = {};\n",
       "\n",
       "    ws.close = function() {\n",
       "        comm.close()\n",
       "    };\n",
       "    ws.send = function(m) {\n",
       "        //console.log('sending', m);\n",
       "        comm.send(m);\n",
       "    };\n",
       "    // Register the callback with on_msg.\n",
       "    comm.on_msg(function(msg) {\n",
       "        //console.log('receiving', msg['content']['data'], msg);\n",
       "        // Pass the mpl event to the overriden (by mpl) onmessage function.\n",
       "        ws.onmessage(msg['content']['data'])\n",
       "    });\n",
       "    return ws;\n",
       "}\n",
       "\n",
       "mpl.mpl_figure_comm = function(comm, msg) {\n",
       "    // This is the function which gets called when the mpl process\n",
       "    // starts-up an IPython Comm through the \"matplotlib\" channel.\n",
       "\n",
       "    var id = msg.content.data.id;\n",
       "    // Get hold of the div created by the display call when the Comm\n",
       "    // socket was opened in Python.\n",
       "    var element = $(\"#\" + id);\n",
       "    var ws_proxy = comm_websocket_adapter(comm)\n",
       "\n",
       "    function ondownload(figure, format) {\n",
       "        window.open(figure.imageObj.src);\n",
       "    }\n",
       "\n",
       "    var fig = new mpl.figure(id, ws_proxy,\n",
       "                           ondownload,\n",
       "                           element.get(0));\n",
       "\n",
       "    // Call onopen now - mpl needs it, as it is assuming we've passed it a real\n",
       "    // web socket which is closed, not our websocket->open comm proxy.\n",
       "    ws_proxy.onopen();\n",
       "\n",
       "    fig.parent_element = element.get(0);\n",
       "    fig.cell_info = mpl.find_output_cell(\"<div id='\" + id + \"'></div>\");\n",
       "    if (!fig.cell_info) {\n",
       "        console.error(\"Failed to find cell for figure\", id, fig);\n",
       "        return;\n",
       "    }\n",
       "\n",
       "    var output_index = fig.cell_info[2]\n",
       "    var cell = fig.cell_info[0];\n",
       "\n",
       "};\n",
       "\n",
       "mpl.figure.prototype.handle_close = function(fig, msg) {\n",
       "    fig.root.unbind('remove')\n",
       "\n",
       "    // Update the output cell to use the data from the current canvas.\n",
       "    fig.push_to_output();\n",
       "    var dataURL = fig.canvas.toDataURL();\n",
       "    // Re-enable the keyboard manager in IPython - without this line, in FF,\n",
       "    // the notebook keyboard shortcuts fail.\n",
       "    IPython.keyboard_manager.enable()\n",
       "    $(fig.parent_element).html('<img src=\"' + dataURL + '\">');\n",
       "    fig.close_ws(fig, msg);\n",
       "}\n",
       "\n",
       "mpl.figure.prototype.close_ws = function(fig, msg){\n",
       "    fig.send_message('closing', msg);\n",
       "    // fig.ws.close()\n",
       "}\n",
       "\n",
       "mpl.figure.prototype.push_to_output = function(remove_interactive) {\n",
       "    // Turn the data on the canvas into data in the output cell.\n",
       "    var dataURL = this.canvas.toDataURL();\n",
       "    this.cell_info[1]['text/html'] = '<img src=\"' + dataURL + '\">';\n",
       "}\n",
       "\n",
       "mpl.figure.prototype.updated_canvas_event = function() {\n",
       "    // Tell IPython that the notebook contents must change.\n",
       "    IPython.notebook.set_dirty(true);\n",
       "    this.send_message(\"ack\", {});\n",
       "    var fig = this;\n",
       "    // Wait a second, then push the new image to the DOM so\n",
       "    // that it is saved nicely (might be nice to debounce this).\n",
       "    setTimeout(function () { fig.push_to_output() }, 1000);\n",
       "}\n",
       "\n",
       "mpl.figure.prototype._init_toolbar = function() {\n",
       "    var fig = this;\n",
       "\n",
       "    var nav_element = $('<div/>')\n",
       "    nav_element.attr('style', 'width: 100%');\n",
       "    this.root.append(nav_element);\n",
       "\n",
       "    // Define a callback function for later on.\n",
       "    function toolbar_event(event) {\n",
       "        return fig.toolbar_button_onclick(event['data']);\n",
       "    }\n",
       "    function toolbar_mouse_event(event) {\n",
       "        return fig.toolbar_button_onmouseover(event['data']);\n",
       "    }\n",
       "\n",
       "    for(var toolbar_ind in mpl.toolbar_items){\n",
       "        var name = mpl.toolbar_items[toolbar_ind][0];\n",
       "        var tooltip = mpl.toolbar_items[toolbar_ind][1];\n",
       "        var image = mpl.toolbar_items[toolbar_ind][2];\n",
       "        var method_name = mpl.toolbar_items[toolbar_ind][3];\n",
       "\n",
       "        if (!name) { continue; };\n",
       "\n",
       "        var button = $('<button class=\"btn btn-default\" href=\"#\" title=\"' + name + '\"><i class=\"fa ' + image + ' fa-lg\"></i></button>');\n",
       "        button.click(method_name, toolbar_event);\n",
       "        button.mouseover(tooltip, toolbar_mouse_event);\n",
       "        nav_element.append(button);\n",
       "    }\n",
       "\n",
       "    // Add the status bar.\n",
       "    var status_bar = $('<span class=\"mpl-message\" style=\"text-align:right; float: right;\"/>');\n",
       "    nav_element.append(status_bar);\n",
       "    this.message = status_bar[0];\n",
       "\n",
       "    // Add the close button to the window.\n",
       "    var buttongrp = $('<div class=\"btn-group inline pull-right\"></div>');\n",
       "    var button = $('<button class=\"btn btn-mini btn-primary\" href=\"#\" title=\"Stop Interaction\"><i class=\"fa fa-power-off icon-remove icon-large\"></i></button>');\n",
       "    button.click(function (evt) { fig.handle_close(fig, {}); } );\n",
       "    button.mouseover('Stop Interaction', toolbar_mouse_event);\n",
       "    buttongrp.append(button);\n",
       "    var titlebar = this.root.find($('.ui-dialog-titlebar'));\n",
       "    titlebar.prepend(buttongrp);\n",
       "}\n",
       "\n",
       "mpl.figure.prototype._root_extra_style = function(el){\n",
       "    var fig = this\n",
       "    el.on(\"remove\", function(){\n",
       "\tfig.close_ws(fig, {});\n",
       "    });\n",
       "}\n",
       "\n",
       "mpl.figure.prototype._canvas_extra_style = function(el){\n",
       "    // this is important to make the div 'focusable\n",
       "    el.attr('tabindex', 0)\n",
       "    // reach out to IPython and tell the keyboard manager to turn it's self\n",
       "    // off when our div gets focus\n",
       "\n",
       "    // location in version 3\n",
       "    if (IPython.notebook.keyboard_manager) {\n",
       "        IPython.notebook.keyboard_manager.register_events(el);\n",
       "    }\n",
       "    else {\n",
       "        // location in version 2\n",
       "        IPython.keyboard_manager.register_events(el);\n",
       "    }\n",
       "\n",
       "}\n",
       "\n",
       "mpl.figure.prototype._key_event_extra = function(event, name) {\n",
       "    var manager = IPython.notebook.keyboard_manager;\n",
       "    if (!manager)\n",
       "        manager = IPython.keyboard_manager;\n",
       "\n",
       "    // Check for shift+enter\n",
       "    if (event.shiftKey && event.which == 13) {\n",
       "        this.canvas_div.blur();\n",
       "        event.shiftKey = false;\n",
       "        // Send a \"J\" for go to next cell\n",
       "        event.which = 74;\n",
       "        event.keyCode = 74;\n",
       "        manager.command_mode();\n",
       "        manager.handle_keydown(event);\n",
       "    }\n",
       "}\n",
       "\n",
       "mpl.figure.prototype.handle_save = function(fig, msg) {\n",
       "    fig.ondownload(fig, null);\n",
       "}\n",
       "\n",
       "\n",
       "mpl.find_output_cell = function(html_output) {\n",
       "    // Return the cell and output element which can be found *uniquely* in the notebook.\n",
       "    // Note - this is a bit hacky, but it is done because the \"notebook_saving.Notebook\"\n",
       "    // IPython event is triggered only after the cells have been serialised, which for\n",
       "    // our purposes (turning an active figure into a static one), is too late.\n",
       "    var cells = IPython.notebook.get_cells();\n",
       "    var ncells = cells.length;\n",
       "    for (var i=0; i<ncells; i++) {\n",
       "        var cell = cells[i];\n",
       "        if (cell.cell_type === 'code'){\n",
       "            for (var j=0; j<cell.output_area.outputs.length; j++) {\n",
       "                var data = cell.output_area.outputs[j];\n",
       "                if (data.data) {\n",
       "                    // IPython >= 3 moved mimebundle to data attribute of output\n",
       "                    data = data.data;\n",
       "                }\n",
       "                if (data['text/html'] == html_output) {\n",
       "                    return [cell, data, j];\n",
       "                }\n",
       "            }\n",
       "        }\n",
       "    }\n",
       "}\n",
       "\n",
       "// Register the function which deals with the matplotlib target/channel.\n",
       "// The kernel may be null if the page has been refreshed.\n",
       "if (IPython.notebook.kernel != null) {\n",
       "    IPython.notebook.kernel.comm_manager.register_target('matplotlib', mpl.mpl_figure_comm);\n",
       "}\n"
      ],
      "text/plain": [
       "<IPython.core.display.Javascript object>"
      ]
     },
     "metadata": {},
     "output_type": "display_data"
    },
    {
     "data": {
      "text/html": [
       "<img src=\"data:image/png;base64,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\">"
      ],
      "text/plain": [
       "<IPython.core.display.HTML object>"
      ]
     },
     "metadata": {},
     "output_type": "display_data"
    },
    {
     "data": {
      "text/plain": [
       "[<matplotlib.lines.Line2D at 0x1eefebe0>]"
      ]
     },
     "execution_count": 93,
     "metadata": {},
     "output_type": "execute_result"
    }
   ],
   "source": [
    "wave = sdss['lambda']\n",
    "flux = sdss['flux']\n",
    "%matplotlib notebook\n",
    "plt.plot(wave, flux)\n"
   ]
  },
  {
   "cell_type": "code",
   "execution_count": null,
   "metadata": {
    "collapsed": true
   },
   "outputs": [],
   "source": []
  },
  {
   "cell_type": "markdown",
   "metadata": {},
   "source": [
    "Using the rest wavelengths as initial values for the locaiton of the lines."
   ]
  },
  {
   "cell_type": "code",
   "execution_count": 111,
   "metadata": {
    "collapsed": true
   },
   "outputs": [],
   "source": [
    "Hbeta = 4862.721\n",
    "Halpha = 6564.614\n",
    "OIII_1 = 4958.911\n",
    "OIII_2 = 5008.239\n",
    "Na = 6549.86\n",
    "Nb = 6585.27\n",
    "Sa = 6718.29\n",
    "Sb = 6732.68"
   ]
  },
  {
   "cell_type": "code",
   "execution_count": 119,
   "metadata": {
    "collapsed": false
   },
   "outputs": [
    {
     "name": "stdout",
     "output_type": "stream",
     "text": [
      "Model: Polynomial1D\n",
      "Inputs: (u'x',)\n",
      "Outputs: (u'y',)\n",
      "Model set size: 1\n",
      "Degree: 1\n",
      "Parameters:\n",
      "           c0               c1       \n",
      "    --------------- -----------------\n",
      "    -0.801238355842 9.79731629578e-05\n"
     ]
    }
   ],
   "source": [
    "mean_flux = flux.mean()\n",
    "cont = np.where(flux > mean_flux, mean_flux, flux)\n",
    "poly_cont = linfitter(models.Polynomial1D(1), wave, cont)\n",
    "print(poly_cont)"
   ]
  },
  {
   "cell_type": "code",
   "execution_count": 120,
   "metadata": {
    "collapsed": false
   },
   "outputs": [
    {
     "name": "stdout",
     "output_type": "stream",
     "text": [
      "(u'amplitude_0', u'mean_0', u'stddev_0', u'amplitude_1', u'mean_1', u'stddev_1', u'amplitude_2', u'mean_2', u'stddev_2', u'c0_3', u'c1_3')\n"
     ]
    }
   ],
   "source": [
    "h_beta = models.Gaussian1D(amplitude=34, mean=Hbeta, stddev=5)\n",
    "o3 = models.Gaussian1D(amplitude=170, mean=OIII_2, stddev=5)\n",
    "o1 = models.Gaussian1D(amplitude=57, mean=OIII_1, stddev=5)\n",
    "hbeta_combo = h_beta + o1 + o3 + poly_cont\n",
    "print(hbeta_combo.param_names)"
   ]
  },
  {
   "cell_type": "code",
   "execution_count": 121,
   "metadata": {
    "collapsed": true
   },
   "outputs": [],
   "source": [
    "def tie_ampl(model):\n",
    "    return model.amplitude_2 / 3.1\n",
    "hbeta_combo.amplitude_1.tied = tie_ampl"
   ]
  },
  {
   "cell_type": "code",
   "execution_count": 122,
   "metadata": {
    "collapsed": true
   },
   "outputs": [],
   "source": [
    "def tie_wave(model):\n",
    "    return model.mean_0 * OIII_1/Hbeta\n",
    "hbeta_combo.mean_1.tied = tie_wave "
   ]
  },
  {
   "cell_type": "code",
   "execution_count": 124,
   "metadata": {
    "collapsed": false
   },
   "outputs": [
    {
     "data": {
      "application/javascript": [
       "/* Put everything inside the global mpl namespace */\n",
       "window.mpl = {};\n",
       "\n",
       "mpl.get_websocket_type = function() {\n",
       "    if (typeof(WebSocket) !== 'undefined') {\n",
       "        return WebSocket;\n",
       "    } else if (typeof(MozWebSocket) !== 'undefined') {\n",
       "        return MozWebSocket;\n",
       "    } else {\n",
       "        alert('Your browser does not have WebSocket support.' +\n",
       "              'Please try Chrome, Safari or Firefox ≥ 6. ' +\n",
       "              'Firefox 4 and 5 are also supported but you ' +\n",
       "              'have to enable WebSockets in about:config.');\n",
       "    };\n",
       "}\n",
       "\n",
       "mpl.figure = function(figure_id, websocket, ondownload, parent_element) {\n",
       "    this.id = figure_id;\n",
       "\n",
       "    this.ws = websocket;\n",
       "\n",
       "    this.supports_binary = (this.ws.binaryType != undefined);\n",
       "\n",
       "    if (!this.supports_binary) {\n",
       "        var warnings = document.getElementById(\"mpl-warnings\");\n",
       "        if (warnings) {\n",
       "            warnings.style.display = 'block';\n",
       "            warnings.textContent = (\n",
       "                \"This browser does not support binary websocket messages. \" +\n",
       "                    \"Performance may be slow.\");\n",
       "        }\n",
       "    }\n",
       "\n",
       "    this.imageObj = new Image();\n",
       "\n",
       "    this.context = undefined;\n",
       "    this.message = undefined;\n",
       "    this.canvas = undefined;\n",
       "    this.rubberband_canvas = undefined;\n",
       "    this.rubberband_context = undefined;\n",
       "    this.format_dropdown = undefined;\n",
       "\n",
       "    this.image_mode = 'full';\n",
       "\n",
       "    this.root = $('<div/>');\n",
       "    this._root_extra_style(this.root)\n",
       "    this.root.attr('style', 'display: inline-block');\n",
       "\n",
       "    $(parent_element).append(this.root);\n",
       "\n",
       "    this._init_header(this);\n",
       "    this._init_canvas(this);\n",
       "    this._init_toolbar(this);\n",
       "\n",
       "    var fig = this;\n",
       "\n",
       "    this.waiting = false;\n",
       "\n",
       "    this.ws.onopen =  function () {\n",
       "            fig.send_message(\"supports_binary\", {value: fig.supports_binary});\n",
       "            fig.send_message(\"send_image_mode\", {});\n",
       "            fig.send_message(\"refresh\", {});\n",
       "        }\n",
       "\n",
       "    this.imageObj.onload = function() {\n",
       "            if (fig.image_mode == 'full') {\n",
       "                // Full images could contain transparency (where diff images\n",
       "                // almost always do), so we need to clear the canvas so that\n",
       "                // there is no ghosting.\n",
       "                fig.context.clearRect(0, 0, fig.canvas.width, fig.canvas.height);\n",
       "            }\n",
       "            fig.context.drawImage(fig.imageObj, 0, 0);\n",
       "        };\n",
       "\n",
       "    this.imageObj.onunload = function() {\n",
       "        this.ws.close();\n",
       "    }\n",
       "\n",
       "    this.ws.onmessage = this._make_on_message_function(this);\n",
       "\n",
       "    this.ondownload = ondownload;\n",
       "}\n",
       "\n",
       "mpl.figure.prototype._init_header = function() {\n",
       "    var titlebar = $(\n",
       "        '<div class=\"ui-dialog-titlebar ui-widget-header ui-corner-all ' +\n",
       "        'ui-helper-clearfix\"/>');\n",
       "    var titletext = $(\n",
       "        '<div class=\"ui-dialog-title\" style=\"width: 100%; ' +\n",
       "        'text-align: center; padding: 3px;\"/>');\n",
       "    titlebar.append(titletext)\n",
       "    this.root.append(titlebar);\n",
       "    this.header = titletext[0];\n",
       "}\n",
       "\n",
       "\n",
       "\n",
       "mpl.figure.prototype._canvas_extra_style = function(canvas_div) {\n",
       "\n",
       "}\n",
       "\n",
       "\n",
       "mpl.figure.prototype._root_extra_style = function(canvas_div) {\n",
       "\n",
       "}\n",
       "\n",
       "mpl.figure.prototype._init_canvas = function() {\n",
       "    var fig = this;\n",
       "\n",
       "    var canvas_div = $('<div/>');\n",
       "\n",
       "    canvas_div.attr('style', 'position: relative; clear: both; outline: 0');\n",
       "\n",
       "    function canvas_keyboard_event(event) {\n",
       "        return fig.key_event(event, event['data']);\n",
       "    }\n",
       "\n",
       "    canvas_div.keydown('key_press', canvas_keyboard_event);\n",
       "    canvas_div.keyup('key_release', canvas_keyboard_event);\n",
       "    this.canvas_div = canvas_div\n",
       "    this._canvas_extra_style(canvas_div)\n",
       "    this.root.append(canvas_div);\n",
       "\n",
       "    var canvas = $('<canvas/>');\n",
       "    canvas.addClass('mpl-canvas');\n",
       "    canvas.attr('style', \"left: 0; top: 0; z-index: 0; outline: 0\")\n",
       "\n",
       "    this.canvas = canvas[0];\n",
       "    this.context = canvas[0].getContext(\"2d\");\n",
       "\n",
       "    var rubberband = $('<canvas/>');\n",
       "    rubberband.attr('style', \"position: absolute; left: 0; top: 0; z-index: 1;\")\n",
       "\n",
       "    var pass_mouse_events = true;\n",
       "\n",
       "    canvas_div.resizable({\n",
       "        start: function(event, ui) {\n",
       "            pass_mouse_events = false;\n",
       "        },\n",
       "        resize: function(event, ui) {\n",
       "            fig.request_resize(ui.size.width, ui.size.height);\n",
       "        },\n",
       "        stop: function(event, ui) {\n",
       "            pass_mouse_events = true;\n",
       "            fig.request_resize(ui.size.width, ui.size.height);\n",
       "        },\n",
       "    });\n",
       "\n",
       "    function mouse_event_fn(event) {\n",
       "        if (pass_mouse_events)\n",
       "            return fig.mouse_event(event, event['data']);\n",
       "    }\n",
       "\n",
       "    rubberband.mousedown('button_press', mouse_event_fn);\n",
       "    rubberband.mouseup('button_release', mouse_event_fn);\n",
       "    // Throttle sequential mouse events to 1 every 20ms.\n",
       "    rubberband.mousemove('motion_notify', mouse_event_fn);\n",
       "\n",
       "    rubberband.mouseenter('figure_enter', mouse_event_fn);\n",
       "    rubberband.mouseleave('figure_leave', mouse_event_fn);\n",
       "\n",
       "    canvas_div.on(\"wheel\", function (event) {\n",
       "        event = event.originalEvent;\n",
       "        event['data'] = 'scroll'\n",
       "        if (event.deltaY < 0) {\n",
       "            event.step = 1;\n",
       "        } else {\n",
       "            event.step = -1;\n",
       "        }\n",
       "        mouse_event_fn(event);\n",
       "    });\n",
       "\n",
       "    canvas_div.append(canvas);\n",
       "    canvas_div.append(rubberband);\n",
       "\n",
       "    this.rubberband = rubberband;\n",
       "    this.rubberband_canvas = rubberband[0];\n",
       "    this.rubberband_context = rubberband[0].getContext(\"2d\");\n",
       "    this.rubberband_context.strokeStyle = \"#000000\";\n",
       "\n",
       "    this._resize_canvas = function(width, height) {\n",
       "        // Keep the size of the canvas, canvas container, and rubber band\n",
       "        // canvas in synch.\n",
       "        canvas_div.css('width', width)\n",
       "        canvas_div.css('height', height)\n",
       "\n",
       "        canvas.attr('width', width);\n",
       "        canvas.attr('height', height);\n",
       "\n",
       "        rubberband.attr('width', width);\n",
       "        rubberband.attr('height', height);\n",
       "    }\n",
       "\n",
       "    // Set the figure to an initial 600x600px, this will subsequently be updated\n",
       "    // upon first draw.\n",
       "    this._resize_canvas(600, 600);\n",
       "\n",
       "    // Disable right mouse context menu.\n",
       "    $(this.rubberband_canvas).bind(\"contextmenu\",function(e){\n",
       "        return false;\n",
       "    });\n",
       "\n",
       "    function set_focus () {\n",
       "        canvas.focus();\n",
       "        canvas_div.focus();\n",
       "    }\n",
       "\n",
       "    window.setTimeout(set_focus, 100);\n",
       "}\n",
       "\n",
       "mpl.figure.prototype._init_toolbar = function() {\n",
       "    var fig = this;\n",
       "\n",
       "    var nav_element = $('<div/>')\n",
       "    nav_element.attr('style', 'width: 100%');\n",
       "    this.root.append(nav_element);\n",
       "\n",
       "    // Define a callback function for later on.\n",
       "    function toolbar_event(event) {\n",
       "        return fig.toolbar_button_onclick(event['data']);\n",
       "    }\n",
       "    function toolbar_mouse_event(event) {\n",
       "        return fig.toolbar_button_onmouseover(event['data']);\n",
       "    }\n",
       "\n",
       "    for(var toolbar_ind in mpl.toolbar_items) {\n",
       "        var name = mpl.toolbar_items[toolbar_ind][0];\n",
       "        var tooltip = mpl.toolbar_items[toolbar_ind][1];\n",
       "        var image = mpl.toolbar_items[toolbar_ind][2];\n",
       "        var method_name = mpl.toolbar_items[toolbar_ind][3];\n",
       "\n",
       "        if (!name) {\n",
       "            // put a spacer in here.\n",
       "            continue;\n",
       "        }\n",
       "        var button = $('<button/>');\n",
       "        button.addClass('ui-button ui-widget ui-state-default ui-corner-all ' +\n",
       "                        'ui-button-icon-only');\n",
       "        button.attr('role', 'button');\n",
       "        button.attr('aria-disabled', 'false');\n",
       "        button.click(method_name, toolbar_event);\n",
       "        button.mouseover(tooltip, toolbar_mouse_event);\n",
       "\n",
       "        var icon_img = $('<span/>');\n",
       "        icon_img.addClass('ui-button-icon-primary ui-icon');\n",
       "        icon_img.addClass(image);\n",
       "        icon_img.addClass('ui-corner-all');\n",
       "\n",
       "        var tooltip_span = $('<span/>');\n",
       "        tooltip_span.addClass('ui-button-text');\n",
       "        tooltip_span.html(tooltip);\n",
       "\n",
       "        button.append(icon_img);\n",
       "        button.append(tooltip_span);\n",
       "\n",
       "        nav_element.append(button);\n",
       "    }\n",
       "\n",
       "    var fmt_picker_span = $('<span/>');\n",
       "\n",
       "    var fmt_picker = $('<select/>');\n",
       "    fmt_picker.addClass('mpl-toolbar-option ui-widget ui-widget-content');\n",
       "    fmt_picker_span.append(fmt_picker);\n",
       "    nav_element.append(fmt_picker_span);\n",
       "    this.format_dropdown = fmt_picker[0];\n",
       "\n",
       "    for (var ind in mpl.extensions) {\n",
       "        var fmt = mpl.extensions[ind];\n",
       "        var option = $(\n",
       "            '<option/>', {selected: fmt === mpl.default_extension}).html(fmt);\n",
       "        fmt_picker.append(option)\n",
       "    }\n",
       "\n",
       "    // Add hover states to the ui-buttons\n",
       "    $( \".ui-button\" ).hover(\n",
       "        function() { $(this).addClass(\"ui-state-hover\");},\n",
       "        function() { $(this).removeClass(\"ui-state-hover\");}\n",
       "    );\n",
       "\n",
       "    var status_bar = $('<span class=\"mpl-message\"/>');\n",
       "    nav_element.append(status_bar);\n",
       "    this.message = status_bar[0];\n",
       "}\n",
       "\n",
       "mpl.figure.prototype.request_resize = function(x_pixels, y_pixels) {\n",
       "    // Request matplotlib to resize the figure. Matplotlib will then trigger a resize in the client,\n",
       "    // which will in turn request a refresh of the image.\n",
       "    this.send_message('resize', {'width': x_pixels, 'height': y_pixels});\n",
       "}\n",
       "\n",
       "mpl.figure.prototype.send_message = function(type, properties) {\n",
       "    properties['type'] = type;\n",
       "    properties['figure_id'] = this.id;\n",
       "    this.ws.send(JSON.stringify(properties));\n",
       "}\n",
       "\n",
       "mpl.figure.prototype.send_draw_message = function() {\n",
       "    if (!this.waiting) {\n",
       "        this.waiting = true;\n",
       "        this.ws.send(JSON.stringify({type: \"draw\", figure_id: this.id}));\n",
       "    }\n",
       "}\n",
       "\n",
       "\n",
       "mpl.figure.prototype.handle_save = function(fig, msg) {\n",
       "    var format_dropdown = fig.format_dropdown;\n",
       "    var format = format_dropdown.options[format_dropdown.selectedIndex].value;\n",
       "    fig.ondownload(fig, format);\n",
       "}\n",
       "\n",
       "\n",
       "mpl.figure.prototype.handle_resize = function(fig, msg) {\n",
       "    var size = msg['size'];\n",
       "    if (size[0] != fig.canvas.width || size[1] != fig.canvas.height) {\n",
       "        fig._resize_canvas(size[0], size[1]);\n",
       "        fig.send_message(\"refresh\", {});\n",
       "    };\n",
       "}\n",
       "\n",
       "mpl.figure.prototype.handle_rubberband = function(fig, msg) {\n",
       "    var x0 = msg['x0'];\n",
       "    var y0 = fig.canvas.height - msg['y0'];\n",
       "    var x1 = msg['x1'];\n",
       "    var y1 = fig.canvas.height - msg['y1'];\n",
       "    x0 = Math.floor(x0) + 0.5;\n",
       "    y0 = Math.floor(y0) + 0.5;\n",
       "    x1 = Math.floor(x1) + 0.5;\n",
       "    y1 = Math.floor(y1) + 0.5;\n",
       "    var min_x = Math.min(x0, x1);\n",
       "    var min_y = Math.min(y0, y1);\n",
       "    var width = Math.abs(x1 - x0);\n",
       "    var height = Math.abs(y1 - y0);\n",
       "\n",
       "    fig.rubberband_context.clearRect(\n",
       "        0, 0, fig.canvas.width, fig.canvas.height);\n",
       "\n",
       "    fig.rubberband_context.strokeRect(min_x, min_y, width, height);\n",
       "}\n",
       "\n",
       "mpl.figure.prototype.handle_figure_label = function(fig, msg) {\n",
       "    // Updates the figure title.\n",
       "    fig.header.textContent = msg['label'];\n",
       "}\n",
       "\n",
       "mpl.figure.prototype.handle_cursor = function(fig, msg) {\n",
       "    var cursor = msg['cursor'];\n",
       "    switch(cursor)\n",
       "    {\n",
       "    case 0:\n",
       "        cursor = 'pointer';\n",
       "        break;\n",
       "    case 1:\n",
       "        cursor = 'default';\n",
       "        break;\n",
       "    case 2:\n",
       "        cursor = 'crosshair';\n",
       "        break;\n",
       "    case 3:\n",
       "        cursor = 'move';\n",
       "        break;\n",
       "    }\n",
       "    fig.rubberband_canvas.style.cursor = cursor;\n",
       "}\n",
       "\n",
       "mpl.figure.prototype.handle_message = function(fig, msg) {\n",
       "    fig.message.textContent = msg['message'];\n",
       "}\n",
       "\n",
       "mpl.figure.prototype.handle_draw = function(fig, msg) {\n",
       "    // Request the server to send over a new figure.\n",
       "    fig.send_draw_message();\n",
       "}\n",
       "\n",
       "mpl.figure.prototype.handle_image_mode = function(fig, msg) {\n",
       "    fig.image_mode = msg['mode'];\n",
       "}\n",
       "\n",
       "mpl.figure.prototype.updated_canvas_event = function() {\n",
       "    // Called whenever the canvas gets updated.\n",
       "    this.send_message(\"ack\", {});\n",
       "}\n",
       "\n",
       "// A function to construct a web socket function for onmessage handling.\n",
       "// Called in the figure constructor.\n",
       "mpl.figure.prototype._make_on_message_function = function(fig) {\n",
       "    return function socket_on_message(evt) {\n",
       "        if (evt.data instanceof Blob) {\n",
       "            /* FIXME: We get \"Resource interpreted as Image but\n",
       "             * transferred with MIME type text/plain:\" errors on\n",
       "             * Chrome.  But how to set the MIME type?  It doesn't seem\n",
       "             * to be part of the websocket stream */\n",
       "            evt.data.type = \"image/png\";\n",
       "\n",
       "            /* Free the memory for the previous frames */\n",
       "            if (fig.imageObj.src) {\n",
       "                (window.URL || window.webkitURL).revokeObjectURL(\n",
       "                    fig.imageObj.src);\n",
       "            }\n",
       "\n",
       "            fig.imageObj.src = (window.URL || window.webkitURL).createObjectURL(\n",
       "                evt.data);\n",
       "            fig.updated_canvas_event();\n",
       "            fig.waiting = false;\n",
       "            return;\n",
       "        }\n",
       "        else if (typeof evt.data === 'string' && evt.data.slice(0, 21) == \"data:image/png;base64\") {\n",
       "            fig.imageObj.src = evt.data;\n",
       "            fig.updated_canvas_event();\n",
       "            fig.waiting = false;\n",
       "            return;\n",
       "        }\n",
       "\n",
       "        var msg = JSON.parse(evt.data);\n",
       "        var msg_type = msg['type'];\n",
       "\n",
       "        // Call the  \"handle_{type}\" callback, which takes\n",
       "        // the figure and JSON message as its only arguments.\n",
       "        try {\n",
       "            var callback = fig[\"handle_\" + msg_type];\n",
       "        } catch (e) {\n",
       "            console.log(\"No handler for the '\" + msg_type + \"' message type: \", msg);\n",
       "            return;\n",
       "        }\n",
       "\n",
       "        if (callback) {\n",
       "            try {\n",
       "                // console.log(\"Handling '\" + msg_type + \"' message: \", msg);\n",
       "                callback(fig, msg);\n",
       "            } catch (e) {\n",
       "                console.log(\"Exception inside the 'handler_\" + msg_type + \"' callback:\", e, e.stack, msg);\n",
       "            }\n",
       "        }\n",
       "    };\n",
       "}\n",
       "\n",
       "// from http://stackoverflow.com/questions/1114465/getting-mouse-location-in-canvas\n",
       "mpl.findpos = function(e) {\n",
       "    //this section is from http://www.quirksmode.org/js/events_properties.html\n",
       "    var targ;\n",
       "    if (!e)\n",
       "        e = window.event;\n",
       "    if (e.target)\n",
       "        targ = e.target;\n",
       "    else if (e.srcElement)\n",
       "        targ = e.srcElement;\n",
       "    if (targ.nodeType == 3) // defeat Safari bug\n",
       "        targ = targ.parentNode;\n",
       "\n",
       "    // jQuery normalizes the pageX and pageY\n",
       "    // pageX,Y are the mouse positions relative to the document\n",
       "    // offset() returns the position of the element relative to the document\n",
       "    var x = e.pageX - $(targ).offset().left;\n",
       "    var y = e.pageY - $(targ).offset().top;\n",
       "\n",
       "    return {\"x\": x, \"y\": y};\n",
       "};\n",
       "\n",
       "/*\n",
       " * return a copy of an object with only non-object keys\n",
       " * we need this to avoid circular references\n",
       " * http://stackoverflow.com/a/24161582/3208463\n",
       " */\n",
       "function simpleKeys (original) {\n",
       "  return Object.keys(original).reduce(function (obj, key) {\n",
       "    if (typeof original[key] !== 'object')\n",
       "        obj[key] = original[key]\n",
       "    return obj;\n",
       "  }, {});\n",
       "}\n",
       "\n",
       "mpl.figure.prototype.mouse_event = function(event, name) {\n",
       "    var canvas_pos = mpl.findpos(event)\n",
       "\n",
       "    if (name === 'button_press')\n",
       "    {\n",
       "        this.canvas.focus();\n",
       "        this.canvas_div.focus();\n",
       "    }\n",
       "\n",
       "    var x = canvas_pos.x;\n",
       "    var y = canvas_pos.y;\n",
       "\n",
       "    this.send_message(name, {x: x, y: y, button: event.button,\n",
       "                             step: event.step,\n",
       "                             guiEvent: simpleKeys(event)});\n",
       "\n",
       "    /* This prevents the web browser from automatically changing to\n",
       "     * the text insertion cursor when the button is pressed.  We want\n",
       "     * to control all of the cursor setting manually through the\n",
       "     * 'cursor' event from matplotlib */\n",
       "    event.preventDefault();\n",
       "    return false;\n",
       "}\n",
       "\n",
       "mpl.figure.prototype._key_event_extra = function(event, name) {\n",
       "    // Handle any extra behaviour associated with a key event\n",
       "}\n",
       "\n",
       "mpl.figure.prototype.key_event = function(event, name) {\n",
       "\n",
       "    // Prevent repeat events\n",
       "    if (name == 'key_press')\n",
       "    {\n",
       "        if (event.which === this._key)\n",
       "            return;\n",
       "        else\n",
       "            this._key = event.which;\n",
       "    }\n",
       "    if (name == 'key_release')\n",
       "        this._key = null;\n",
       "\n",
       "    var value = '';\n",
       "    if (event.ctrlKey && event.which != 17)\n",
       "        value += \"ctrl+\";\n",
       "    if (event.altKey && event.which != 18)\n",
       "        value += \"alt+\";\n",
       "    if (event.shiftKey && event.which != 16)\n",
       "        value += \"shift+\";\n",
       "\n",
       "    value += 'k';\n",
       "    value += event.which.toString();\n",
       "\n",
       "    this._key_event_extra(event, name);\n",
       "\n",
       "    this.send_message(name, {key: value,\n",
       "                             guiEvent: simpleKeys(event)});\n",
       "    return false;\n",
       "}\n",
       "\n",
       "mpl.figure.prototype.toolbar_button_onclick = function(name) {\n",
       "    if (name == 'download') {\n",
       "        this.handle_save(this, null);\n",
       "    } else {\n",
       "        this.send_message(\"toolbar_button\", {name: name});\n",
       "    }\n",
       "};\n",
       "\n",
       "mpl.figure.prototype.toolbar_button_onmouseover = function(tooltip) {\n",
       "    this.message.textContent = tooltip;\n",
       "};\n",
       "mpl.toolbar_items = [[\"Home\", \"Reset original view\", \"fa fa-home icon-home\", \"home\"], [\"Back\", \"Back to  previous view\", \"fa fa-arrow-left icon-arrow-left\", \"back\"], [\"Forward\", \"Forward to next view\", \"fa fa-arrow-right icon-arrow-right\", \"forward\"], [\"\", \"\", \"\", \"\"], [\"Pan\", \"Pan axes with left mouse, zoom with right\", \"fa fa-arrows icon-move\", \"pan\"], [\"Zoom\", \"Zoom to rectangle\", \"fa fa-square-o icon-check-empty\", \"zoom\"], [\"\", \"\", \"\", \"\"], [\"Download\", \"Download plot\", \"fa fa-floppy-o icon-save\", \"download\"]];\n",
       "\n",
       "mpl.extensions = [\"eps\", \"jpeg\", \"pdf\", \"png\", \"ps\", \"raw\", \"svg\", \"tif\"];\n",
       "\n",
       "mpl.default_extension = \"png\";var comm_websocket_adapter = function(comm) {\n",
       "    // Create a \"websocket\"-like object which calls the given IPython comm\n",
       "    // object with the appropriate methods. Currently this is a non binary\n",
       "    // socket, so there is still some room for performance tuning.\n",
       "    var ws = {};\n",
       "\n",
       "    ws.close = function() {\n",
       "        comm.close()\n",
       "    };\n",
       "    ws.send = function(m) {\n",
       "        //console.log('sending', m);\n",
       "        comm.send(m);\n",
       "    };\n",
       "    // Register the callback with on_msg.\n",
       "    comm.on_msg(function(msg) {\n",
       "        //console.log('receiving', msg['content']['data'], msg);\n",
       "        // Pass the mpl event to the overriden (by mpl) onmessage function.\n",
       "        ws.onmessage(msg['content']['data'])\n",
       "    });\n",
       "    return ws;\n",
       "}\n",
       "\n",
       "mpl.mpl_figure_comm = function(comm, msg) {\n",
       "    // This is the function which gets called when the mpl process\n",
       "    // starts-up an IPython Comm through the \"matplotlib\" channel.\n",
       "\n",
       "    var id = msg.content.data.id;\n",
       "    // Get hold of the div created by the display call when the Comm\n",
       "    // socket was opened in Python.\n",
       "    var element = $(\"#\" + id);\n",
       "    var ws_proxy = comm_websocket_adapter(comm)\n",
       "\n",
       "    function ondownload(figure, format) {\n",
       "        window.open(figure.imageObj.src);\n",
       "    }\n",
       "\n",
       "    var fig = new mpl.figure(id, ws_proxy,\n",
       "                           ondownload,\n",
       "                           element.get(0));\n",
       "\n",
       "    // Call onopen now - mpl needs it, as it is assuming we've passed it a real\n",
       "    // web socket which is closed, not our websocket->open comm proxy.\n",
       "    ws_proxy.onopen();\n",
       "\n",
       "    fig.parent_element = element.get(0);\n",
       "    fig.cell_info = mpl.find_output_cell(\"<div id='\" + id + \"'></div>\");\n",
       "    if (!fig.cell_info) {\n",
       "        console.error(\"Failed to find cell for figure\", id, fig);\n",
       "        return;\n",
       "    }\n",
       "\n",
       "    var output_index = fig.cell_info[2]\n",
       "    var cell = fig.cell_info[0];\n",
       "\n",
       "};\n",
       "\n",
       "mpl.figure.prototype.handle_close = function(fig, msg) {\n",
       "    fig.root.unbind('remove')\n",
       "\n",
       "    // Update the output cell to use the data from the current canvas.\n",
       "    fig.push_to_output();\n",
       "    var dataURL = fig.canvas.toDataURL();\n",
       "    // Re-enable the keyboard manager in IPython - without this line, in FF,\n",
       "    // the notebook keyboard shortcuts fail.\n",
       "    IPython.keyboard_manager.enable()\n",
       "    $(fig.parent_element).html('<img src=\"' + dataURL + '\">');\n",
       "    fig.close_ws(fig, msg);\n",
       "}\n",
       "\n",
       "mpl.figure.prototype.close_ws = function(fig, msg){\n",
       "    fig.send_message('closing', msg);\n",
       "    // fig.ws.close()\n",
       "}\n",
       "\n",
       "mpl.figure.prototype.push_to_output = function(remove_interactive) {\n",
       "    // Turn the data on the canvas into data in the output cell.\n",
       "    var dataURL = this.canvas.toDataURL();\n",
       "    this.cell_info[1]['text/html'] = '<img src=\"' + dataURL + '\">';\n",
       "}\n",
       "\n",
       "mpl.figure.prototype.updated_canvas_event = function() {\n",
       "    // Tell IPython that the notebook contents must change.\n",
       "    IPython.notebook.set_dirty(true);\n",
       "    this.send_message(\"ack\", {});\n",
       "    var fig = this;\n",
       "    // Wait a second, then push the new image to the DOM so\n",
       "    // that it is saved nicely (might be nice to debounce this).\n",
       "    setTimeout(function () { fig.push_to_output() }, 1000);\n",
       "}\n",
       "\n",
       "mpl.figure.prototype._init_toolbar = function() {\n",
       "    var fig = this;\n",
       "\n",
       "    var nav_element = $('<div/>')\n",
       "    nav_element.attr('style', 'width: 100%');\n",
       "    this.root.append(nav_element);\n",
       "\n",
       "    // Define a callback function for later on.\n",
       "    function toolbar_event(event) {\n",
       "        return fig.toolbar_button_onclick(event['data']);\n",
       "    }\n",
       "    function toolbar_mouse_event(event) {\n",
       "        return fig.toolbar_button_onmouseover(event['data']);\n",
       "    }\n",
       "\n",
       "    for(var toolbar_ind in mpl.toolbar_items){\n",
       "        var name = mpl.toolbar_items[toolbar_ind][0];\n",
       "        var tooltip = mpl.toolbar_items[toolbar_ind][1];\n",
       "        var image = mpl.toolbar_items[toolbar_ind][2];\n",
       "        var method_name = mpl.toolbar_items[toolbar_ind][3];\n",
       "\n",
       "        if (!name) { continue; };\n",
       "\n",
       "        var button = $('<button class=\"btn btn-default\" href=\"#\" title=\"' + name + '\"><i class=\"fa ' + image + ' fa-lg\"></i></button>');\n",
       "        button.click(method_name, toolbar_event);\n",
       "        button.mouseover(tooltip, toolbar_mouse_event);\n",
       "        nav_element.append(button);\n",
       "    }\n",
       "\n",
       "    // Add the status bar.\n",
       "    var status_bar = $('<span class=\"mpl-message\" style=\"text-align:right; float: right;\"/>');\n",
       "    nav_element.append(status_bar);\n",
       "    this.message = status_bar[0];\n",
       "\n",
       "    // Add the close button to the window.\n",
       "    var buttongrp = $('<div class=\"btn-group inline pull-right\"></div>');\n",
       "    var button = $('<button class=\"btn btn-mini btn-primary\" href=\"#\" title=\"Stop Interaction\"><i class=\"fa fa-power-off icon-remove icon-large\"></i></button>');\n",
       "    button.click(function (evt) { fig.handle_close(fig, {}); } );\n",
       "    button.mouseover('Stop Interaction', toolbar_mouse_event);\n",
       "    buttongrp.append(button);\n",
       "    var titlebar = this.root.find($('.ui-dialog-titlebar'));\n",
       "    titlebar.prepend(buttongrp);\n",
       "}\n",
       "\n",
       "mpl.figure.prototype._root_extra_style = function(el){\n",
       "    var fig = this\n",
       "    el.on(\"remove\", function(){\n",
       "\tfig.close_ws(fig, {});\n",
       "    });\n",
       "}\n",
       "\n",
       "mpl.figure.prototype._canvas_extra_style = function(el){\n",
       "    // this is important to make the div 'focusable\n",
       "    el.attr('tabindex', 0)\n",
       "    // reach out to IPython and tell the keyboard manager to turn it's self\n",
       "    // off when our div gets focus\n",
       "\n",
       "    // location in version 3\n",
       "    if (IPython.notebook.keyboard_manager) {\n",
       "        IPython.notebook.keyboard_manager.register_events(el);\n",
       "    }\n",
       "    else {\n",
       "        // location in version 2\n",
       "        IPython.keyboard_manager.register_events(el);\n",
       "    }\n",
       "\n",
       "}\n",
       "\n",
       "mpl.figure.prototype._key_event_extra = function(event, name) {\n",
       "    var manager = IPython.notebook.keyboard_manager;\n",
       "    if (!manager)\n",
       "        manager = IPython.keyboard_manager;\n",
       "\n",
       "    // Check for shift+enter\n",
       "    if (event.shiftKey && event.which == 13) {\n",
       "        this.canvas_div.blur();\n",
       "        event.shiftKey = false;\n",
       "        // Send a \"J\" for go to next cell\n",
       "        event.which = 74;\n",
       "        event.keyCode = 74;\n",
       "        manager.command_mode();\n",
       "        manager.handle_keydown(event);\n",
       "    }\n",
       "}\n",
       "\n",
       "mpl.figure.prototype.handle_save = function(fig, msg) {\n",
       "    fig.ondownload(fig, null);\n",
       "}\n",
       "\n",
       "\n",
       "mpl.find_output_cell = function(html_output) {\n",
       "    // Return the cell and output element which can be found *uniquely* in the notebook.\n",
       "    // Note - this is a bit hacky, but it is done because the \"notebook_saving.Notebook\"\n",
       "    // IPython event is triggered only after the cells have been serialised, which for\n",
       "    // our purposes (turning an active figure into a static one), is too late.\n",
       "    var cells = IPython.notebook.get_cells();\n",
       "    var ncells = cells.length;\n",
       "    for (var i=0; i<ncells; i++) {\n",
       "        var cell = cells[i];\n",
       "        if (cell.cell_type === 'code'){\n",
       "            for (var j=0; j<cell.output_area.outputs.length; j++) {\n",
       "                var data = cell.output_area.outputs[j];\n",
       "                if (data.data) {\n",
       "                    // IPython >= 3 moved mimebundle to data attribute of output\n",
       "                    data = data.data;\n",
       "                }\n",
       "                if (data['text/html'] == html_output) {\n",
       "                    return [cell, data, j];\n",
       "                }\n",
       "            }\n",
       "        }\n",
       "    }\n",
       "}\n",
       "\n",
       "// Register the function which deals with the matplotlib target/channel.\n",
       "// The kernel may be null if the page has been refreshed.\n",
       "if (IPython.notebook.kernel != null) {\n",
       "    IPython.notebook.kernel.comm_manager.register_target('matplotlib', mpl.mpl_figure_comm);\n",
       "}\n"
      ],
      "text/plain": [
       "<IPython.core.display.Javascript object>"
      ]
     },
     "metadata": {},
     "output_type": "display_data"
    },
    {
     "data": {
      "text/html": [
       "<img src=\"data:image/png;base64,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\">"
      ],
      "text/plain": [
       "<IPython.core.display.HTML object>"
      ]
     },
     "metadata": {},
     "output_type": "display_data"
    },
    {
     "data": {
      "text/plain": [
       "[<matplotlib.lines.Line2D at 0x210f4518>]"
      ]
     },
     "execution_count": 124,
     "metadata": {},
     "output_type": "execute_result"
    }
   ],
   "source": [
    "fitter = fitting.LevMarLSQFitter()\n",
    "fitted_model = fitter(hbeta_combo, wave, flux)\n",
    "fitted_lines = fitted_model(wave)\n",
    "plt.plot(wave, flux)\n",
    "plt.plot(wave, fitted_lines)"
   ]
  },
  {
   "cell_type": "markdown",
   "metadata": {},
   "source": [
    "Exercise:\n",
    "\n",
    "Fit a constraint model using all lines whose rest wavelengths are listed above."
   ]
  },
  {
   "cell_type": "markdown",
   "metadata": {},
   "source": [
    "### Inverse of a model"
   ]
  },
  {
   "cell_type": "markdown",
   "metadata": {},
   "source": [
    "Models have their analytical inverse, if available, already defined. It is also possible to assign a \"custom_inverse\" by assigning a model to the `inverse` attribute."
   ]
  },
  {
   "cell_type": "code",
   "execution_count": 63,
   "metadata": {
    "collapsed": false
   },
   "outputs": [
    {
     "name": "stdout",
     "output_type": "stream",
     "text": [
      "Model: Rotation2D\n",
      "Inputs: (u'x', u'y')\n",
      "Outputs: (u'x', u'y')\n",
      "Model set size: 1\n",
      "Parameters:\n",
      "    angle\n",
      "    -----\n",
      "    -23.1\n"
     ]
    }
   ],
   "source": [
    "print(rot.inverse)"
   ]
  },
  {
   "cell_type": "code",
   "execution_count": 64,
   "metadata": {
    "collapsed": false
   },
   "outputs": [
    {
     "ename": "NotImplementedError",
     "evalue": "An analytical inverse transform has not been implemented for this model.",
     "output_type": "error",
     "traceback": [
      "\u001b[1;31m---------------------------------------------------------------------------\u001b[0m",
      "\u001b[1;31mNotImplementedError\u001b[0m                       Traceback (most recent call last)",
      "\u001b[1;32m<ipython-input-64-6e3e91389fde>\u001b[0m in \u001b[0;36m<module>\u001b[1;34m()\u001b[0m\n\u001b[1;32m----> 1\u001b[1;33m \u001b[1;32mprint\u001b[0m\u001b[1;33m(\u001b[0m\u001b[0mp2_2\u001b[0m\u001b[1;33m.\u001b[0m\u001b[0minverse\u001b[0m\u001b[1;33m)\u001b[0m\u001b[1;33m\u001b[0m\u001b[0m\n\u001b[0m",
      "\u001b[1;32mC:\\Anaconda2\\lib\\site-packages\\astropy\\modeling\\core.pyc\u001b[0m in \u001b[0;36mwrapped_fget\u001b[1;34m(self)\u001b[0m\n\u001b[0;32m    296\u001b[0m                 \u001b[1;32mreturn\u001b[0m \u001b[0mself\u001b[0m\u001b[1;33m.\u001b[0m\u001b[0m_custom_inverse\u001b[0m\u001b[1;33m\u001b[0m\u001b[0m\n\u001b[0;32m    297\u001b[0m \u001b[1;33m\u001b[0m\u001b[0m\n\u001b[1;32m--> 298\u001b[1;33m             \u001b[1;32mreturn\u001b[0m \u001b[0mfget\u001b[0m\u001b[1;33m(\u001b[0m\u001b[0mself\u001b[0m\u001b[1;33m)\u001b[0m\u001b[1;33m\u001b[0m\u001b[0m\n\u001b[0m\u001b[0;32m    299\u001b[0m \u001b[1;33m\u001b[0m\u001b[0m\n\u001b[0;32m    300\u001b[0m         \u001b[1;32mdef\u001b[0m \u001b[0mfset\u001b[0m\u001b[1;33m(\u001b[0m\u001b[0mself\u001b[0m\u001b[1;33m,\u001b[0m \u001b[0mvalue\u001b[0m\u001b[1;33m)\u001b[0m\u001b[1;33m:\u001b[0m\u001b[1;33m\u001b[0m\u001b[0m\n",
      "\u001b[1;32mC:\\Anaconda2\\lib\\site-packages\\astropy\\modeling\\core.pyc\u001b[0m in \u001b[0;36minverse\u001b[1;34m(self)\u001b[0m\n\u001b[0;32m    830\u001b[0m         \"\"\"\n\u001b[0;32m    831\u001b[0m \u001b[1;33m\u001b[0m\u001b[0m\n\u001b[1;32m--> 832\u001b[1;33m         raise NotImplementedError(\"An analytical inverse transform has not \"\n\u001b[0m\u001b[0;32m    833\u001b[0m                                   \"been implemented for this model.\")\n\u001b[0;32m    834\u001b[0m \u001b[1;33m\u001b[0m\u001b[0m\n",
      "\u001b[1;31mNotImplementedError\u001b[0m: An analytical inverse transform has not been implemented for this model."
     ]
    }
   ],
   "source": [
    "print(p2_2.inverse)"
   ]
  },
  {
   "cell_type": "code",
   "execution_count": 65,
   "metadata": {
    "collapsed": false
   },
   "outputs": [
    {
     "name": "stdout",
     "output_type": "stream",
     "text": [
      "Model: Polynomial2D\n",
      "Name: Poly_X\n",
      "Inputs: (u'x', u'y')\n",
      "Outputs: (u'z',)\n",
      "Model set size: 1\n",
      "Degree: 1\n",
      "Parameters:\n",
      "    c0_0 c1_0 c0_1\n",
      "    ---- ---- ----\n",
      "     2.0  2.0  0.1\n"
     ]
    }
   ],
   "source": [
    "p2_2.inverse = p2_1\n",
    "print(p2_2.inverse)"
   ]
  },
  {
   "cell_type": "markdown",
   "metadata": {},
   "source": [
    "### Creating a new model"
   ]
  },
  {
   "cell_type": "code",
   "execution_count": 100,
   "metadata": {
    "collapsed": false
   },
   "outputs": [
    {
     "name": "stdout",
     "output_type": "stream",
     "text": [
      "Model: Gaussian1D\n",
      "Inputs: (u'x',)\n",
      "Outputs: (u'y',)\n",
      "Model set size: 1\n",
      "Parameters:\n",
      "      amplitude        mean        stddev   \n",
      "    ------------- ------------- ------------\n",
      "    18.3507035983 4867.79836342 26.794859443\n",
      "Model: Gaussian1D\n",
      "Inputs: (u'x',)\n",
      "Outputs: (u'y',)\n",
      "Model set size: 1\n",
      "Parameters:\n",
      "      amplitude        mean     stddev\n",
      "    ------------- ------------- ------\n",
      "    533.676889906 1.02993411041    5.0\n",
      "Model: Gaussian1D\n",
      "Inputs: (u'x',)\n",
      "Outputs: (u'y',)\n",
      "Model set size: 1\n",
      "Parameters:\n",
      "      amplitude        mean         stddev   \n",
      "    ------------- ------------- -------------\n",
      "    172.153835453 5009.02448563 2.00921423431\n"
     ]
    }
   ],
   "source": [
    "print(fitted_model[0])\n",
    "print(fitted_model[1])\n",
    "print(fitted_model[2])"
   ]
  },
  {
   "cell_type": "markdown",
   "metadata": {},
   "source": [
    "Quite a few models are already defined in modeling."
   ]
  },
  {
   "cell_type": "code",
   "execution_count": 43,
   "metadata": {
    "collapsed": false
   },
   "outputs": [
    {
     "ename": "SyntaxError",
     "evalue": "invalid syntax (<ipython-input-43-9e08975948ee>, line 1)",
     "output_type": "error",
     "traceback": [
      "\u001b[1;36m  File \u001b[1;32m\"<ipython-input-43-9e08975948ee>\"\u001b[1;36m, line \u001b[1;32m1\u001b[0m\n\u001b[1;33m    models.\u001b[0m\n\u001b[1;37m           ^\u001b[0m\n\u001b[1;31mSyntaxError\u001b[0m\u001b[1;31m:\u001b[0m invalid syntax\n"
     ]
    }
   ],
   "source": [
    "models."
   ]
  },
  {
   "cell_type": "markdown",
   "metadata": {},
   "source": [
    "A new model can be easily define following an existing model as an example.\n",
    "However, there's also a decorator, which works with user defined functions and turns them onto models."
   ]
  },
  {
   "cell_type": "code",
   "execution_count": 66,
   "metadata": {
    "collapsed": false
   },
   "outputs": [
    {
     "name": "stdout",
     "output_type": "stream",
     "text": [
      "-0.469303395121\n"
     ]
    }
   ],
   "source": [
    "from astropy.modeling.models import custom_model\n",
    "@custom_model\n",
    "def sine_model(x, amplitude=1, frequency=1):\n",
    "    return amplitude * np.sin(2 * np.pi * frequency * x)\n",
    "\n",
    "model = sine_model(amplitude=3, frequency=2.1) # initialize the model\n",
    "print(model(0.25))"
   ]
  },
  {
   "cell_type": "markdown",
   "metadata": {},
   "source": [
    "In case a user wants to supply also a derivative, then `custom_model` can be used as a funciton"
   ]
  },
  {
   "cell_type": "code",
   "execution_count": 67,
   "metadata": {
    "collapsed": false
   },
   "outputs": [
    {
     "name": "stdout",
     "output_type": "stream",
     "text": [
      "-0.469303395121\n"
     ]
    }
   ],
   "source": [
    "def sine_model(x, amplitude=1, frequency=1):\n",
    "    return amplitude * np.sin(2 * np.pi * frequency * x)\n",
    "\n",
    "def sine_deriv(x, amplitude=1, frequency=1):\n",
    "    return 2 * np.pi * amplitude * np.cos(2 * np.pi * frequency *x)\n",
    "\n",
    "SineModel = custom_model(sine_model, fit_deriv=sine_deriv) # create the class\n",
    "model = SineModel(3, 2.1)# and initialize the model\n",
    "print(model(0.25))"
   ]
  },
  {
   "cell_type": "code",
   "execution_count": null,
   "metadata": {
    "collapsed": true
   },
   "outputs": [],
   "source": []
  }
 ],
 "metadata": {
  "kernelspec": {
   "display_name": "Python 2",
   "language": "python",
   "name": "python2"
  },
  "language_info": {
   "codemirror_mode": {
    "name": "ipython",
    "version": 2
   },
   "file_extension": ".py",
   "mimetype": "text/x-python",
   "name": "python",
   "nbconvert_exporter": "python",
   "pygments_lexer": "ipython2",
   "version": "2.7.5"
  }
 },
 "nbformat": 4,
 "nbformat_minor": 0
}
