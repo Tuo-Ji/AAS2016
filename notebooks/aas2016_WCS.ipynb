{
 "cells": [
  {
   "cell_type": "code",
   "execution_count": 1,
   "metadata": {
    "collapsed": true
   },
   "outputs": [],
   "source": [
    "import numpy as np\n",
    "%matplotlib inline\n",
    "from matplotlib import pyplot as plt"
   ]
  },
  {
   "cell_type": "markdown",
   "metadata": {},
   "source": [
    "## astropy.wcs\n",
    "Implements the FITS WCS standard"
   ]
  },
  {
   "cell_type": "code",
   "execution_count": 2,
   "metadata": {
    "collapsed": true
   },
   "outputs": [],
   "source": [
    "import os\n",
    "from astropy.io import fits\n",
    "from astropy import wcs"
   ]
  },
  {
   "cell_type": "markdown",
   "metadata": {},
   "source": [
    "The files we will use in this demo are in the astropy.wcs.tests.data directory."
   ]
  },
  {
   "cell_type": "code",
   "execution_count": 5,
   "metadata": {
    "collapsed": false
   },
   "outputs": [],
   "source": [
    "sip_file_name = os.path.join(os.path.split(wcs.__file__)[0], 'tests', 'data', 'sip.fits')"
   ]
  },
  {
   "cell_type": "code",
   "execution_count": 6,
   "metadata": {
    "collapsed": false
   },
   "outputs": [
    {
     "name": "stdout",
     "output_type": "stream",
     "text": [
      "Filename: C:\\Anaconda2\\lib\\site-packages\\astropy\\wcs\\tests\\data\\sip.fits\n",
      "No.    Name         Type      Cards   Dimensions   Format\n",
      "0    PRIMARY     PrimaryHDU      62   ()              \n"
     ]
    }
   ],
   "source": [
    "sip_file = fits.open(sip_file_name)\n",
    "sip_file.info()"
   ]
  },
  {
   "cell_type": "markdown",
   "metadata": {},
   "source": [
    "To create a WCS object pass the header with the WCS kyewords to astropy.wcs.WCS (Primary header in this case)."
   ]
  },
  {
   "cell_type": "code",
   "execution_count": 7,
   "metadata": {
    "collapsed": false
   },
   "outputs": [
    {
     "name": "stderr",
     "output_type": "stream",
     "text": [
      "WARNING: FITSFixedWarning: The WCS transformation has more axes (2) than the image it is associated with (0) [astropy.wcs.wcs]\n",
      "WARNING:astropy:FITSFixedWarning: The WCS transformation has more axes (2) than the image it is associated with (0)\n"
     ]
    }
   ],
   "source": [
    "w = wcs.WCS(sip_file[0].header)"
   ]
  },
  {
   "cell_type": "markdown",
   "metadata": {},
   "source": [
    "To perform the entire transformaiton from detector to sky, including distortions, pass x and y and an 'origin'. The third argument, 'origin', indicates whether the coordinates are 1-based (like FITS), or 0-based (like python)."
   ]
  },
  {
   "cell_type": "code",
   "execution_count": 8,
   "metadata": {
    "collapsed": false
   },
   "outputs": [
    {
     "name": "stdout",
     "output_type": "stream",
     "text": [
      "(array([ 202.39347618,  202.39347618]), array([ 47.1772851,  47.1772851]))\n"
     ]
    }
   ],
   "source": [
    "ra, dec = w.all_pix2world([1, 1], [2, 2], 1)\n",
    "print(ra, dec)"
   ]
  },
  {
   "cell_type": "markdown",
   "metadata": {},
   "source": [
    "If analytical inverse is not available (often the case in the presence of distortion), then an iterative inverse is performed."
   ]
  },
  {
   "cell_type": "code",
   "execution_count": 9,
   "metadata": {
    "collapsed": false
   },
   "outputs": [
    {
     "name": "stdout",
     "output_type": "stream",
     "text": [
      "[array([ 1.00000005,  1.00000005]), array([ 2.00000006,  2.00000006])]\n"
     ]
    }
   ],
   "source": [
    "print w.all_world2pix(ra, dec, 1)"
   ]
  },
  {
   "cell_type": "markdown",
   "metadata": {},
   "source": [
    "In some cases it is useful to omit the distortion and perform the core WCS transforms only:"
   ]
  },
  {
   "cell_type": "code",
   "execution_count": 10,
   "metadata": {
    "collapsed": false
   },
   "outputs": [
    {
     "name": "stdout",
     "output_type": "stream",
     "text": [
      "(array([ 202.39299121,  202.39299121]), array([ 47.17731548,  47.17731548]))\n"
     ]
    }
   ],
   "source": [
    "ra, dec = w.wcs_pix2world([1, 1], [2, 2], 1)\n",
    "print(ra, dec)"
   ]
  },
  {
   "cell_type": "code",
   "execution_count": 11,
   "metadata": {
    "collapsed": false
   },
   "outputs": [
    {
     "data": {
      "text/plain": [
       "[array([ 1.,  1.]), array([ 2.,  2.])]"
      ]
     },
     "execution_count": 11,
     "metadata": {},
     "output_type": "execute_result"
    }
   ],
   "source": [
    "w.wcs_world2pix(ra, dec, 1)"
   ]
  },
  {
   "cell_type": "code",
   "execution_count": 14,
   "metadata": {
    "collapsed": false
   },
   "outputs": [
    {
     "data": {
      "text/plain": [
       "WCSAXES =                    2 / Number of coordinate axes                      \n",
       "CRPIX1  =                128.0 / Pixel coordinate of reference point            \n",
       "CRPIX2  =                128.0 / Pixel coordinate of reference point            \n",
       "PC1_1   =    0.000249756880272 / Coordinate transformation matrix element       \n",
       "PC1_2   =    0.000230177809744 / Coordinate transformation matrix element       \n",
       "PC2_1   =    0.000230428519265 / Coordinate transformation matrix element       \n",
       "PC2_2   =   -0.000249965770577 / Coordinate transformation matrix element       \n",
       "CDELT1  =                  1.0 / [deg] Coordinate increment at reference point  \n",
       "CDELT2  =                  1.0 / [deg] Coordinate increment at reference point  \n",
       "CUNIT1  = 'deg'                / Units of coordinate increment and value        \n",
       "CUNIT2  = 'deg'                / Units of coordinate increment and value        \n",
       "CTYPE1  = 'RA---TAN-SIP'       / Right ascension, gnomonic projection           \n",
       "CTYPE2  = 'DEC--TAN-SIP'       / Declination, gnomonic projection               \n",
       "CRVAL1  =        202.482322805 / [deg] Coordinate value at reference point      \n",
       "CRVAL2  =          47.17511893 / [deg] Coordinate value at reference point      \n",
       "LONPOLE =                180.0 / [deg] Native longitude of celestial pole       \n",
       "LATPOLE =          47.17511893 / [deg] Native latitude of celestial pole        \n",
       "CRDER1  =   4.02509762361E-005 / [deg] Random error in coordinate               \n",
       "CRDER2  =   3.42746131953E-005 / [deg] Random error in coordinate               \n",
       "RADESYS = 'ICRS'               / Equatorial coordinate system                   "
      ]
     },
     "execution_count": 14,
     "metadata": {},
     "output_type": "execute_result"
    }
   ],
   "source": [
    "w.to_header()\n",
    "#w.to_header(relax=True)"
   ]
  },
  {
   "cell_type": "markdown",
   "metadata": {},
   "source": [
    "Exercise 1:\n",
    "\n",
    "Create a WCS object for a different file in the astropy/data sets. \n",
    "\n",
    "#dist_file_name = os.path.join(os.path.split(astropy.__file__)[0], 'wcs', 'tests', 'data', 'dist_lookup.fits.gz')\n",
    "\n",
    "This file contains all distortions typical for HST imaging data - SIP, lookup_table and det2im (detector to image - correcting detector irregularities). The lookup table and det2im distortions are stored in separate extensions so you will need to pass as a second argument to `wcs.WCS` the file object (already opened with astropy.io.fits)."
   ]
  },
  {
   "cell_type": "markdown",
   "metadata": {},
   "source": [
    "Exercise 2:\n",
    "\n",
    "Uisng the same file create a WCS object for the alternate WCS in this header, by passing also `key='O'` to wcs.WCS.\n",
    "Commpare the two WCSs using the `printwcs()` method`"
   ]
  },
  {
   "cell_type": "code",
   "execution_count": null,
   "metadata": {
    "collapsed": true
   },
   "outputs": [],
   "source": []
  }
 ],
 "metadata": {
  "kernelspec": {
   "display_name": "Python 2",
   "language": "python",
   "name": "python2"
  },
  "language_info": {
   "codemirror_mode": {
    "name": "ipython",
    "version": 2
   },
   "file_extension": ".py",
   "mimetype": "text/x-python",
   "name": "python",
   "nbconvert_exporter": "python",
   "pygments_lexer": "ipython2",
   "version": "2.7.11"
  }
 },
 "nbformat": 4,
 "nbformat_minor": 0
}
